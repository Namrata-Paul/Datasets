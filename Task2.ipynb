{
  "nbformat": 4,
  "nbformat_minor": 0,
  "metadata": {
    "colab": {
      "provenance": [],
      "authorship_tag": "ABX9TyP3spWebbIBM1eR4s1l4KPT",
      "include_colab_link": true
    },
    "kernelspec": {
      "name": "python3",
      "display_name": "Python 3"
    },
    "language_info": {
      "name": "python"
    }
  },
  "cells": [
    {
      "cell_type": "markdown",
      "metadata": {
        "id": "view-in-github",
        "colab_type": "text"
      },
      "source": [
        "<a href=\"https://colab.research.google.com/github/Namrata-Paul/Datasets/blob/master/Task2.ipynb\" target=\"_parent\"><img src=\"https://colab.research.google.com/assets/colab-badge.svg\" alt=\"Open In Colab\"/></a>"
      ]
    },
    {
      "cell_type": "code",
      "execution_count": 6,
      "metadata": {
        "id": "dx4N0edBJVuq"
      },
      "outputs": [],
      "source": [
        "import requests\n",
        "import json\n",
        "import pandas as pd"
      ]
    },
    {
      "cell_type": "code",
      "source": [
        "api = requests.get(\"https://api.data.gov.in/resource/58287031-8137-473d-bc65-5043b657a3fb?api-key=579b464db66ec23bdd000001cdd3946e44ce4aad7209ff7b23ac571b&format=json\")\n",
        "data = api.text\n",
        "jsonf = json.loads(data)\n",
        "jsonf"
      ],
      "metadata": {
        "colab": {
          "base_uri": "https://localhost:8080/"
        },
        "id": "iROOGxI8JdJs",
        "outputId": "349b6e2c-f576-4c91-e569-ef675b433a7a"
      },
      "execution_count": 36,
      "outputs": [
        {
          "output_type": "execute_result",
          "data": {
            "text/plain": [
              "{'index_name': '58287031-8137-473d-bc65-5043b657a3fb',\n",
              " 'title': 'Global Average Temperature and Atmosphere concentration of Carbon Dioxide',\n",
              " 'desc': 'Global Average Temperature and Atmosphere concentration of Carbon Dioxide',\n",
              " 'created': 1670948570428,\n",
              " 'updated': 1670948392,\n",
              " 'created_date': '2022-12-13T21:49:27Z',\n",
              " 'updated_date': '2022-12-13T21:49:52Z',\n",
              " 'active': '1',\n",
              " 'visualizable': '1',\n",
              " 'catalog_uuid': 'c1846216-e4ba-47db-bb94-c5faebb69760',\n",
              " 'source': 'data.gov.in',\n",
              " 'org_type': 'Central',\n",
              " 'org': ['Ministry of Statistics and Programme Implementation'],\n",
              " 'sector': ['Environment and Forest', 'Statistics'],\n",
              " 'field': [{'id': 'year', 'name': 'Year', 'type': 'double'},\n",
              "  {'id': 'temperature_degree_c_',\n",
              "   'name': 'Temperature ( Degree C)',\n",
              "   'type': 'double'},\n",
              "  {'id': 'carbon_dioxide_parts_per_million_',\n",
              "   'name': 'Carbon Dioxide (Parts Per Million)',\n",
              "   'type': 'double'},\n",
              "  {'id': 'emissions_from_fossil_fuel_burning_million_tonnes_of_carbon_',\n",
              "   'name': 'Emissions from Fossil Fuel Burning (Million Tonnes of Carbon)',\n",
              "   'type': 'double'}],\n",
              " 'target_bucket': {'index': 'api',\n",
              "  'type': 'c1846216-e4ba-47db-bb94-c5faebb69760',\n",
              "  'field': '58287031-8137-473d-bc65-5043b657a3fb'},\n",
              " 'message': 'Resource lists',\n",
              " 'version': '2.2.0',\n",
              " 'status': 'ok',\n",
              " 'total': 12,\n",
              " 'count': 10,\n",
              " 'limit': '10',\n",
              " 'offset': '0',\n",
              " 'records': [{'year': 2000,\n",
              "   'temperature_degree_c_': 14.2886,\n",
              "   'carbon_dioxide_parts_per_million_': 369.4,\n",
              "   'emissions_from_fossil_fuel_burning_million_tonnes_of_carbon_': 6750},\n",
              "  {'year': 2001,\n",
              "   'temperature_degree_c_': 14.4173,\n",
              "   'carbon_dioxide_parts_per_million_': 371.08,\n",
              "   'emissions_from_fossil_fuel_burning_million_tonnes_of_carbon_': 6916},\n",
              "  {'year': 2002,\n",
              "   'temperature_degree_c_': 14.4745,\n",
              "   'carbon_dioxide_parts_per_million_': 373.17,\n",
              "   'emissions_from_fossil_fuel_burning_million_tonnes_of_carbon_': 6981},\n",
              "  {'year': 2003,\n",
              "   'temperature_degree_c_': 14.4818,\n",
              "   'carbon_dioxide_parts_per_million_': 375.8,\n",
              "   'emissions_from_fossil_fuel_burning_million_tonnes_of_carbon_': 7397},\n",
              "  {'year': 2004,\n",
              "   'temperature_degree_c_': 14.4416,\n",
              "   'carbon_dioxide_parts_per_million_': 377.5,\n",
              "   'emissions_from_fossil_fuel_burning_million_tonnes_of_carbon_': 7782},\n",
              "  {'year': 2005,\n",
              "   'temperature_degree_c_': 14.5154,\n",
              "   'carbon_dioxide_parts_per_million_': 379.78,\n",
              "   'emissions_from_fossil_fuel_burning_million_tonnes_of_carbon_': 8086},\n",
              "  {'year': 2006,\n",
              "   'temperature_degree_c_': 14.4601,\n",
              "   'carbon_dioxide_parts_per_million_': 381.86,\n",
              "   'emissions_from_fossil_fuel_burning_million_tonnes_of_carbon_': 8350},\n",
              "  {'year': 2007,\n",
              "   'temperature_degree_c_': 14.4479,\n",
              "   'carbon_dioxide_parts_per_million_': 383.72,\n",
              "   'emissions_from_fossil_fuel_burning_million_tonnes_of_carbon_': 8543},\n",
              "  {'year': 2008,\n",
              "   'temperature_degree_c_': 14.3803,\n",
              "   'carbon_dioxide_parts_per_million_': 385.57,\n",
              "   'emissions_from_fossil_fuel_burning_million_tonnes_of_carbon_': 8749},\n",
              "  {'year': 2009,\n",
              "   'temperature_degree_c_': 14.4552,\n",
              "   'carbon_dioxide_parts_per_million_': 387.36,\n",
              "   'emissions_from_fossil_fuel_burning_million_tonnes_of_carbon_': 8627}]}"
            ]
          },
          "metadata": {},
          "execution_count": 36
        }
      ]
    },
    {
      "cell_type": "code",
      "source": [
        "df = pd.json_normalize(jsonf, 'records')\n",
        "df"
      ],
      "metadata": {
        "colab": {
          "base_uri": "https://localhost:8080/",
          "height": 363
        },
        "id": "Q3Cgvt-Xfoz7",
        "outputId": "2fab7a9b-2b35-4c71-fd43-b3410b800bbd"
      },
      "execution_count": 128,
      "outputs": [
        {
          "output_type": "execute_result",
          "data": {
            "text/plain": [
              "   year  temperature_degree_c_  carbon_dioxide_parts_per_million_  \\\n",
              "0  2000                14.2886                             369.40   \n",
              "1  2001                14.4173                             371.08   \n",
              "2  2002                14.4745                             373.17   \n",
              "3  2003                14.4818                             375.80   \n",
              "4  2004                14.4416                             377.50   \n",
              "5  2005                14.5154                             379.78   \n",
              "6  2006                14.4601                             381.86   \n",
              "7  2007                14.4479                             383.72   \n",
              "8  2008                14.3803                             385.57   \n",
              "9  2009                14.4552                             387.36   \n",
              "\n",
              "   emissions_from_fossil_fuel_burning_million_tonnes_of_carbon_  \n",
              "0                                               6750             \n",
              "1                                               6916             \n",
              "2                                               6981             \n",
              "3                                               7397             \n",
              "4                                               7782             \n",
              "5                                               8086             \n",
              "6                                               8350             \n",
              "7                                               8543             \n",
              "8                                               8749             \n",
              "9                                               8627             "
            ],
            "text/html": [
              "\n",
              "  <div id=\"df-9cd631a9-5a1f-48e0-aad9-02e67f24a21a\">\n",
              "    <div class=\"colab-df-container\">\n",
              "      <div>\n",
              "<style scoped>\n",
              "    .dataframe tbody tr th:only-of-type {\n",
              "        vertical-align: middle;\n",
              "    }\n",
              "\n",
              "    .dataframe tbody tr th {\n",
              "        vertical-align: top;\n",
              "    }\n",
              "\n",
              "    .dataframe thead th {\n",
              "        text-align: right;\n",
              "    }\n",
              "</style>\n",
              "<table border=\"1\" class=\"dataframe\">\n",
              "  <thead>\n",
              "    <tr style=\"text-align: right;\">\n",
              "      <th></th>\n",
              "      <th>year</th>\n",
              "      <th>temperature_degree_c_</th>\n",
              "      <th>carbon_dioxide_parts_per_million_</th>\n",
              "      <th>emissions_from_fossil_fuel_burning_million_tonnes_of_carbon_</th>\n",
              "    </tr>\n",
              "  </thead>\n",
              "  <tbody>\n",
              "    <tr>\n",
              "      <th>0</th>\n",
              "      <td>2000</td>\n",
              "      <td>14.2886</td>\n",
              "      <td>369.40</td>\n",
              "      <td>6750</td>\n",
              "    </tr>\n",
              "    <tr>\n",
              "      <th>1</th>\n",
              "      <td>2001</td>\n",
              "      <td>14.4173</td>\n",
              "      <td>371.08</td>\n",
              "      <td>6916</td>\n",
              "    </tr>\n",
              "    <tr>\n",
              "      <th>2</th>\n",
              "      <td>2002</td>\n",
              "      <td>14.4745</td>\n",
              "      <td>373.17</td>\n",
              "      <td>6981</td>\n",
              "    </tr>\n",
              "    <tr>\n",
              "      <th>3</th>\n",
              "      <td>2003</td>\n",
              "      <td>14.4818</td>\n",
              "      <td>375.80</td>\n",
              "      <td>7397</td>\n",
              "    </tr>\n",
              "    <tr>\n",
              "      <th>4</th>\n",
              "      <td>2004</td>\n",
              "      <td>14.4416</td>\n",
              "      <td>377.50</td>\n",
              "      <td>7782</td>\n",
              "    </tr>\n",
              "    <tr>\n",
              "      <th>5</th>\n",
              "      <td>2005</td>\n",
              "      <td>14.5154</td>\n",
              "      <td>379.78</td>\n",
              "      <td>8086</td>\n",
              "    </tr>\n",
              "    <tr>\n",
              "      <th>6</th>\n",
              "      <td>2006</td>\n",
              "      <td>14.4601</td>\n",
              "      <td>381.86</td>\n",
              "      <td>8350</td>\n",
              "    </tr>\n",
              "    <tr>\n",
              "      <th>7</th>\n",
              "      <td>2007</td>\n",
              "      <td>14.4479</td>\n",
              "      <td>383.72</td>\n",
              "      <td>8543</td>\n",
              "    </tr>\n",
              "    <tr>\n",
              "      <th>8</th>\n",
              "      <td>2008</td>\n",
              "      <td>14.3803</td>\n",
              "      <td>385.57</td>\n",
              "      <td>8749</td>\n",
              "    </tr>\n",
              "    <tr>\n",
              "      <th>9</th>\n",
              "      <td>2009</td>\n",
              "      <td>14.4552</td>\n",
              "      <td>387.36</td>\n",
              "      <td>8627</td>\n",
              "    </tr>\n",
              "  </tbody>\n",
              "</table>\n",
              "</div>\n",
              "      <button class=\"colab-df-convert\" onclick=\"convertToInteractive('df-9cd631a9-5a1f-48e0-aad9-02e67f24a21a')\"\n",
              "              title=\"Convert this dataframe to an interactive table.\"\n",
              "              style=\"display:none;\">\n",
              "        \n",
              "  <svg xmlns=\"http://www.w3.org/2000/svg\" height=\"24px\"viewBox=\"0 0 24 24\"\n",
              "       width=\"24px\">\n",
              "    <path d=\"M0 0h24v24H0V0z\" fill=\"none\"/>\n",
              "    <path d=\"M18.56 5.44l.94 2.06.94-2.06 2.06-.94-2.06-.94-.94-2.06-.94 2.06-2.06.94zm-11 1L8.5 8.5l.94-2.06 2.06-.94-2.06-.94L8.5 2.5l-.94 2.06-2.06.94zm10 10l.94 2.06.94-2.06 2.06-.94-2.06-.94-.94-2.06-.94 2.06-2.06.94z\"/><path d=\"M17.41 7.96l-1.37-1.37c-.4-.4-.92-.59-1.43-.59-.52 0-1.04.2-1.43.59L10.3 9.45l-7.72 7.72c-.78.78-.78 2.05 0 2.83L4 21.41c.39.39.9.59 1.41.59.51 0 1.02-.2 1.41-.59l7.78-7.78 2.81-2.81c.8-.78.8-2.07 0-2.86zM5.41 20L4 18.59l7.72-7.72 1.47 1.35L5.41 20z\"/>\n",
              "  </svg>\n",
              "      </button>\n",
              "      \n",
              "  <style>\n",
              "    .colab-df-container {\n",
              "      display:flex;\n",
              "      flex-wrap:wrap;\n",
              "      gap: 12px;\n",
              "    }\n",
              "\n",
              "    .colab-df-convert {\n",
              "      background-color: #E8F0FE;\n",
              "      border: none;\n",
              "      border-radius: 50%;\n",
              "      cursor: pointer;\n",
              "      display: none;\n",
              "      fill: #1967D2;\n",
              "      height: 32px;\n",
              "      padding: 0 0 0 0;\n",
              "      width: 32px;\n",
              "    }\n",
              "\n",
              "    .colab-df-convert:hover {\n",
              "      background-color: #E2EBFA;\n",
              "      box-shadow: 0px 1px 2px rgba(60, 64, 67, 0.3), 0px 1px 3px 1px rgba(60, 64, 67, 0.15);\n",
              "      fill: #174EA6;\n",
              "    }\n",
              "\n",
              "    [theme=dark] .colab-df-convert {\n",
              "      background-color: #3B4455;\n",
              "      fill: #D2E3FC;\n",
              "    }\n",
              "\n",
              "    [theme=dark] .colab-df-convert:hover {\n",
              "      background-color: #434B5C;\n",
              "      box-shadow: 0px 1px 3px 1px rgba(0, 0, 0, 0.15);\n",
              "      filter: drop-shadow(0px 1px 2px rgba(0, 0, 0, 0.3));\n",
              "      fill: #FFFFFF;\n",
              "    }\n",
              "  </style>\n",
              "\n",
              "      <script>\n",
              "        const buttonEl =\n",
              "          document.querySelector('#df-9cd631a9-5a1f-48e0-aad9-02e67f24a21a button.colab-df-convert');\n",
              "        buttonEl.style.display =\n",
              "          google.colab.kernel.accessAllowed ? 'block' : 'none';\n",
              "\n",
              "        async function convertToInteractive(key) {\n",
              "          const element = document.querySelector('#df-9cd631a9-5a1f-48e0-aad9-02e67f24a21a');\n",
              "          const dataTable =\n",
              "            await google.colab.kernel.invokeFunction('convertToInteractive',\n",
              "                                                     [key], {});\n",
              "          if (!dataTable) return;\n",
              "\n",
              "          const docLinkHtml = 'Like what you see? Visit the ' +\n",
              "            '<a target=\"_blank\" href=https://colab.research.google.com/notebooks/data_table.ipynb>data table notebook</a>'\n",
              "            + ' to learn more about interactive tables.';\n",
              "          element.innerHTML = '';\n",
              "          dataTable['output_type'] = 'display_data';\n",
              "          await google.colab.output.renderOutput(dataTable, element);\n",
              "          const docLink = document.createElement('div');\n",
              "          docLink.innerHTML = docLinkHtml;\n",
              "          element.appendChild(docLink);\n",
              "        }\n",
              "      </script>\n",
              "    </div>\n",
              "  </div>\n",
              "  "
            ]
          },
          "metadata": {},
          "execution_count": 128
        }
      ]
    },
    {
      "cell_type": "code",
      "source": [
        "import matplotlib.pyplot as plt\n",
        "import seaborn as sns"
      ],
      "metadata": {
        "id": "aJJLNf7Gtwnv"
      },
      "execution_count": 143,
      "outputs": []
    },
    {
      "cell_type": "code",
      "source": [
        "import numpy as np\n",
        "plt.scatter(df['temperature_degree_c_'], df['year'])\n",
        "plt.title(\"Scatter Plot\")\n",
        "plt.colorbar()\n",
        " \n",
        "plt.show()"
      ],
      "metadata": {
        "colab": {
          "base_uri": "https://localhost:8080/",
          "height": 281
        },
        "id": "X5cjbM_EuZ3A",
        "outputId": "aace60db-d19e-45fc-efdf-abfcb5208647"
      },
      "execution_count": 183,
      "outputs": [
        {
          "output_type": "display_data",
          "data": {
            "text/plain": [
              "<Figure size 432x288 with 2 Axes>"
            ],
            "image/png": "[encoded data removed]"
          },
          "metadata": {
            "needs_background": "light"
          }
        }
      ]
    },
    {
      "cell_type": "markdown",
      "source": [],
      "metadata": {
        "id": "h0pAO_Ymtp_n"
      }
    },
    {
      "cell_type": "code",
      "source": [
        "df.plot(x=\"year\", y=\"carbon_dioxide_parts_per_million_\", kind=\"bar\", figsize=(10, 8), color=['pink', 'red', 'green', 'yellow', 'cyan'], edgecolor='black')\n",
        "plt.show()"
      ],
      "metadata": {
        "colab": {
          "base_uri": "https://localhost:8080/",
          "height": 512
        },
        "id": "0-wz4kTt4Jjy",
        "outputId": "f6cd2d0f-18b0-4013-b4b8-dae796d65a92"
      },
      "execution_count": 178,
      "outputs": [
        {
          "output_type": "display_data",
          "data": {
            "text/plain": [
              "<Figure size 720x576 with 1 Axes>"
            ],
            "image/png": "[encoded data removed]"
          },
          "metadata": {
            "needs_background": "light"
          }
        }
      ]
    },
    {
      "cell_type": "code",
      "source": [
        "ax = plt.gca()\n",
        "\n",
        "df.plot(kind='line',x='year',y='emissions_from_fossil_fuel_burning_million_tonnes_of_carbon_', figsize=(10, 8), color='red', ax=ax)\n",
        "\n",
        "plt.show()"
      ],
      "metadata": {
        "colab": {
          "base_uri": "https://localhost:8080/",
          "height": 497
        },
        "id": "2Y6A9ln09Rl_",
        "outputId": "7ef1dbdd-9044-4079-ef34-86c47ce9176b"
      },
      "execution_count": 181,
      "outputs": [
        {
          "output_type": "display_data",
          "data": {
            "text/plain": [
              "<Figure size 720x576 with 1 Axes>"
            ],
            "image/png": "[encoded data removed]"
          },
          "metadata": {
            "needs_background": "light"
          }
        }
      ]
    },
    {
      "cell_type": "code",
      "source": [],
      "metadata": {
        "id": "7B498rdn7qAj"
      },
      "execution_count": null,
      "outputs": []
    }
  ]
}