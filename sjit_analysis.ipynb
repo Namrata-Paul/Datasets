{
 "cells": [
  {
   "cell_type": "code",
   "execution_count": 2,
   "metadata": {},
   "outputs": [],
   "source": [
    "import pandas as pd\n",
    "import numpy as np\n",
    "import matplotlib.pyplot as plt\n",
    "%matplotlib inline"
   ]
  },
  {
   "cell_type": "code",
   "execution_count": 3,
   "metadata": {},
   "outputs": [
    {
     "data": {
      "text/html": [
       "        <script type=\"text/javascript\">\n",
       "        window.PlotlyConfig = {MathJaxConfig: 'local'};\n",
       "        if (window.MathJax) {MathJax.Hub.Config({SVG: {font: \"STIX-Web\"}});}\n",
       "        if (typeof require !== 'undefined') {\n",
       "        require.undef(\"plotly\");\n",
       "        requirejs.config({\n",
       "            paths: {\n",
       "                'plotly': ['https://cdn.plot.ly/plotly-latest.min']\n",
       "            }\n",
       "        });\n",
       "        require(['plotly'], function(Plotly) {\n",
       "            window._Plotly = Plotly;\n",
       "        });\n",
       "        }\n",
       "        </script>\n",
       "        "
      ]
     },
     "metadata": {},
     "output_type": "display_data"
    },
    {
     "data": {
      "text/html": [
       "        <script type=\"text/javascript\">\n",
       "        window.PlotlyConfig = {MathJaxConfig: 'local'};\n",
       "        if (window.MathJax) {MathJax.Hub.Config({SVG: {font: \"STIX-Web\"}});}\n",
       "        if (typeof require !== 'undefined') {\n",
       "        require.undef(\"plotly\");\n",
       "        requirejs.config({\n",
       "            paths: {\n",
       "                'plotly': ['https://cdn.plot.ly/plotly-latest.min']\n",
       "            }\n",
       "        });\n",
       "        require(['plotly'], function(Plotly) {\n",
       "            window._Plotly = Plotly;\n",
       "        });\n",
       "        }\n",
       "        </script>\n",
       "        "
      ]
     },
     "metadata": {},
     "output_type": "display_data"
    }
   ],
   "source": [
    "import cufflinks as cf\n",
    "from plotly.offline import download_plotlyjs,init_notebook_mode,plot,iplot\n",
    "init_notebook_mode(connected=True)\n",
    "cf.go_offline()"
   ]
  },
  {
   "cell_type": "code",
   "execution_count": 4,
   "metadata": {},
   "outputs": [
    {
     "data": {
      "text/plain": [
       "'/home/soumyajit-ipc/Documents/repo/Datasets'"
      ]
     },
     "execution_count": 4,
     "metadata": {},
     "output_type": "execute_result"
    }
   ],
   "source": [
    "pwd"
   ]
  },
  {
   "cell_type": "code",
   "execution_count": 5,
   "metadata": {},
   "outputs": [
    {
     "data": {
      "text/html": [
       "<div>\n",
       "<style scoped>\n",
       "    .dataframe tbody tr th:only-of-type {\n",
       "        vertical-align: middle;\n",
       "    }\n",
       "\n",
       "    .dataframe tbody tr th {\n",
       "        vertical-align: top;\n",
       "    }\n",
       "\n",
       "    .dataframe thead th {\n",
       "        text-align: right;\n",
       "    }\n",
       "</style>\n",
       "<table border=\"1\" class=\"dataframe\">\n",
       "  <thead>\n",
       "    <tr style=\"text-align: right;\">\n",
       "      <th></th>\n",
       "      <th>title</th>\n",
       "      <th>description</th>\n",
       "      <th>url</th>\n",
       "      <th>owner</th>\n",
       "      <th>kernels</th>\n",
       "      <th>discussions</th>\n",
       "      <th>views</th>\n",
       "      <th>downloads</th>\n",
       "      <th>last_updated</th>\n",
       "      <th>license</th>\n",
       "      <th>size</th>\n",
       "      <th>featured</th>\n",
       "      <th>super_featured</th>\n",
       "      <th>upvotes</th>\n",
       "    </tr>\n",
       "  </thead>\n",
       "  <tbody>\n",
       "    <tr>\n",
       "      <th>0</th>\n",
       "      <td>Trending YouTube Video Statistics (UPDATED)</td>\n",
       "      <td>Daily statistics (views, likes, category, tags...</td>\n",
       "      <td>https://www.kaggle.com/datasnaek/youtube-new</td>\n",
       "      <td>Mitchell J</td>\n",
       "      <td>3</td>\n",
       "      <td>4</td>\n",
       "      <td>9484</td>\n",
       "      <td>1668</td>\n",
       "      <td>2018-01-16</td>\n",
       "      <td>CC0</td>\n",
       "      <td>35087677.0</td>\n",
       "      <td>1</td>\n",
       "      <td>0</td>\n",
       "      <td>46</td>\n",
       "    </tr>\n",
       "    <tr>\n",
       "      <th>1</th>\n",
       "      <td>7ecb8f4fe2ece9f4c8ffd23af10c310f</td>\n",
       "      <td>NaN</td>\n",
       "      <td>https://www.kaggle.com/veralei/7ecb8f4fe2ece9f...</td>\n",
       "      <td>Vera Lei</td>\n",
       "      <td>0</td>\n",
       "      <td>0</td>\n",
       "      <td>55</td>\n",
       "      <td>2</td>\n",
       "      <td>2018-01-16</td>\n",
       "      <td>Other</td>\n",
       "      <td>127264365.0</td>\n",
       "      <td>0</td>\n",
       "      <td>0</td>\n",
       "      <td>0</td>\n",
       "    </tr>\n",
       "    <tr>\n",
       "      <th>2</th>\n",
       "      <td>Atom Dataset</td>\n",
       "      <td>Dataset with atom features</td>\n",
       "      <td>https://www.kaggle.com/chfly2000/nomad2018-ato...</td>\n",
       "      <td>chfly2000</td>\n",
       "      <td>0</td>\n",
       "      <td>0</td>\n",
       "      <td>26</td>\n",
       "      <td>1</td>\n",
       "      <td>2018-01-16</td>\n",
       "      <td>Other</td>\n",
       "      <td>0.0</td>\n",
       "      <td>0</td>\n",
       "      <td>0</td>\n",
       "      <td>0</td>\n",
       "    </tr>\n",
       "    <tr>\n",
       "      <th>3</th>\n",
       "      <td>tmptmp</td>\n",
       "      <td>NaN</td>\n",
       "      <td>https://www.kaggle.com/ilyaivanchenko/tmptmp</td>\n",
       "      <td>snow2011</td>\n",
       "      <td>0</td>\n",
       "      <td>0</td>\n",
       "      <td>12</td>\n",
       "      <td>1</td>\n",
       "      <td>2018-01-16</td>\n",
       "      <td>CC0</td>\n",
       "      <td>1635900.0</td>\n",
       "      <td>0</td>\n",
       "      <td>0</td>\n",
       "      <td>0</td>\n",
       "    </tr>\n",
       "    <tr>\n",
       "      <th>4</th>\n",
       "      <td>Lab 1 Matrix</td>\n",
       "      <td>NaN</td>\n",
       "      <td>https://www.kaggle.com/tjb5670/lab-1-matrix</td>\n",
       "      <td>Tjb5670</td>\n",
       "      <td>0</td>\n",
       "      <td>0</td>\n",
       "      <td>7</td>\n",
       "      <td>1</td>\n",
       "      <td>2018-01-16</td>\n",
       "      <td>CC0</td>\n",
       "      <td>18.0</td>\n",
       "      <td>0</td>\n",
       "      <td>0</td>\n",
       "      <td>0</td>\n",
       "    </tr>\n",
       "    <tr>\n",
       "      <th>5</th>\n",
       "      <td>Koppen-Geiger climate classification</td>\n",
       "      <td>A world map shapefile from data observed durin...</td>\n",
       "      <td>https://www.kaggle.com/nighrtwing/koppen-geige...</td>\n",
       "      <td>gabro</td>\n",
       "      <td>0</td>\n",
       "      <td>0</td>\n",
       "      <td>6</td>\n",
       "      <td>0</td>\n",
       "      <td>2018-01-16</td>\n",
       "      <td>Other</td>\n",
       "      <td>777566.0</td>\n",
       "      <td>0</td>\n",
       "      <td>0</td>\n",
       "      <td>1</td>\n",
       "    </tr>\n",
       "    <tr>\n",
       "      <th>6</th>\n",
       "      <td>Trial Dataset</td>\n",
       "      <td>NaN</td>\n",
       "      <td>https://www.kaggle.com/prashanth1994/trial-dat...</td>\n",
       "      <td>Prashanth Sekar</td>\n",
       "      <td>0</td>\n",
       "      <td>0</td>\n",
       "      <td>5</td>\n",
       "      <td>0</td>\n",
       "      <td>2018-01-16</td>\n",
       "      <td>Other</td>\n",
       "      <td>404381.0</td>\n",
       "      <td>0</td>\n",
       "      <td>0</td>\n",
       "      <td>0</td>\n",
       "    </tr>\n",
       "    <tr>\n",
       "      <th>7</th>\n",
       "      <td>glove_embedding_weights</td>\n",
       "      <td>NaN</td>\n",
       "      <td>https://www.kaggle.com/zymiao/glove-embedding-...</td>\n",
       "      <td>Zuoyu Miao</td>\n",
       "      <td>0</td>\n",
       "      <td>0</td>\n",
       "      <td>5</td>\n",
       "      <td>0</td>\n",
       "      <td>2018-01-16</td>\n",
       "      <td>CC0</td>\n",
       "      <td>137847611.0</td>\n",
       "      <td>0</td>\n",
       "      <td>0</td>\n",
       "      <td>1</td>\n",
       "    </tr>\n",
       "    <tr>\n",
       "      <th>8</th>\n",
       "      <td>20180116083816</td>\n",
       "      <td>NaN</td>\n",
       "      <td>https://www.kaggle.com/mic771112/20180116083816</td>\n",
       "      <td>Shanger Lin</td>\n",
       "      <td>0</td>\n",
       "      <td>0</td>\n",
       "      <td>5</td>\n",
       "      <td>0</td>\n",
       "      <td>2018-01-16</td>\n",
       "      <td>Other</td>\n",
       "      <td>8071716.0</td>\n",
       "      <td>0</td>\n",
       "      <td>0</td>\n",
       "      <td>0</td>\n",
       "    </tr>\n",
       "    <tr>\n",
       "      <th>9</th>\n",
       "      <td>final_best14</td>\n",
       "      <td>NaN</td>\n",
       "      <td>https://www.kaggle.com/shivrajp/final-best14</td>\n",
       "      <td>Getting_started</td>\n",
       "      <td>0</td>\n",
       "      <td>0</td>\n",
       "      <td>4</td>\n",
       "      <td>1</td>\n",
       "      <td>2018-01-16</td>\n",
       "      <td>CC0</td>\n",
       "      <td>184162.0</td>\n",
       "      <td>0</td>\n",
       "      <td>0</td>\n",
       "      <td>0</td>\n",
       "    </tr>\n",
       "  </tbody>\n",
       "</table>\n",
       "</div>"
      ],
      "text/plain": [
       "                                         title  \\\n",
       "0  Trending YouTube Video Statistics (UPDATED)   \n",
       "1             7ecb8f4fe2ece9f4c8ffd23af10c310f   \n",
       "2                                 Atom Dataset   \n",
       "3                                       tmptmp   \n",
       "4                                 Lab 1 Matrix   \n",
       "5         Koppen-Geiger climate classification   \n",
       "6                                Trial Dataset   \n",
       "7                      glove_embedding_weights   \n",
       "8                               20180116083816   \n",
       "9                                 final_best14   \n",
       "\n",
       "                                         description  \\\n",
       "0  Daily statistics (views, likes, category, tags...   \n",
       "1                                                NaN   \n",
       "2                         Dataset with atom features   \n",
       "3                                                NaN   \n",
       "4                                                NaN   \n",
       "5  A world map shapefile from data observed durin...   \n",
       "6                                                NaN   \n",
       "7                                                NaN   \n",
       "8                                                NaN   \n",
       "9                                                NaN   \n",
       "\n",
       "                                                 url            owner  \\\n",
       "0       https://www.kaggle.com/datasnaek/youtube-new       Mitchell J   \n",
       "1  https://www.kaggle.com/veralei/7ecb8f4fe2ece9f...         Vera Lei   \n",
       "2  https://www.kaggle.com/chfly2000/nomad2018-ato...        chfly2000   \n",
       "3       https://www.kaggle.com/ilyaivanchenko/tmptmp         snow2011   \n",
       "4        https://www.kaggle.com/tjb5670/lab-1-matrix          Tjb5670   \n",
       "5  https://www.kaggle.com/nighrtwing/koppen-geige...            gabro   \n",
       "6  https://www.kaggle.com/prashanth1994/trial-dat...  Prashanth Sekar   \n",
       "7  https://www.kaggle.com/zymiao/glove-embedding-...       Zuoyu Miao   \n",
       "8    https://www.kaggle.com/mic771112/20180116083816      Shanger Lin   \n",
       "9       https://www.kaggle.com/shivrajp/final-best14  Getting_started   \n",
       "\n",
       "   kernels  discussions  views  downloads last_updated license         size  \\\n",
       "0        3            4   9484       1668   2018-01-16     CC0   35087677.0   \n",
       "1        0            0     55          2   2018-01-16   Other  127264365.0   \n",
       "2        0            0     26          1   2018-01-16   Other          0.0   \n",
       "3        0            0     12          1   2018-01-16     CC0    1635900.0   \n",
       "4        0            0      7          1   2018-01-16     CC0         18.0   \n",
       "5        0            0      6          0   2018-01-16   Other     777566.0   \n",
       "6        0            0      5          0   2018-01-16   Other     404381.0   \n",
       "7        0            0      5          0   2018-01-16     CC0  137847611.0   \n",
       "8        0            0      5          0   2018-01-16   Other    8071716.0   \n",
       "9        0            0      4          1   2018-01-16     CC0     184162.0   \n",
       "\n",
       "   featured  super_featured  upvotes  \n",
       "0         1               0       46  \n",
       "1         0               0        0  \n",
       "2         0               0        0  \n",
       "3         0               0        0  \n",
       "4         0               0        0  \n",
       "5         0               0        1  \n",
       "6         0               0        0  \n",
       "7         0               0        1  \n",
       "8         0               0        0  \n",
       "9         0               0        0  "
      ]
     },
     "execution_count": 5,
     "metadata": {},
     "output_type": "execute_result"
    }
   ],
   "source": [
    "df=pd.read_csv('/home/soumyajit-ipc/Documents/repo/Datasets/kaggle_datasets.csv')\n",
    "df.head(10)"
   ]
  },
  {
   "cell_type": "code",
   "execution_count": 6,
   "metadata": {
    "scrolled": true
   },
   "outputs": [
    {
     "data": {
      "text/html": [
       "<div>\n",
       "<style scoped>\n",
       "    .dataframe tbody tr th:only-of-type {\n",
       "        vertical-align: middle;\n",
       "    }\n",
       "\n",
       "    .dataframe tbody tr th {\n",
       "        vertical-align: top;\n",
       "    }\n",
       "\n",
       "    .dataframe thead th {\n",
       "        text-align: right;\n",
       "    }\n",
       "</style>\n",
       "<table border=\"1\" class=\"dataframe\">\n",
       "  <thead>\n",
       "    <tr style=\"text-align: right;\">\n",
       "      <th></th>\n",
       "      <th>title</th>\n",
       "      <th>description</th>\n",
       "      <th>url</th>\n",
       "      <th>owner</th>\n",
       "      <th>kernels</th>\n",
       "      <th>discussions</th>\n",
       "      <th>views</th>\n",
       "      <th>downloads</th>\n",
       "      <th>last_updated</th>\n",
       "      <th>license</th>\n",
       "      <th>size</th>\n",
       "      <th>featured</th>\n",
       "      <th>super_featured</th>\n",
       "      <th>upvotes</th>\n",
       "    </tr>\n",
       "  </thead>\n",
       "  <tbody>\n",
       "    <tr>\n",
       "      <th>0</th>\n",
       "      <td>Trending YouTube Video Statistics (UPDATED)</td>\n",
       "      <td>Daily statistics (views, likes, category, tags...</td>\n",
       "      <td>https://www.kaggle.com/datasnaek/youtube-new</td>\n",
       "      <td>Mitchell J</td>\n",
       "      <td>3</td>\n",
       "      <td>4</td>\n",
       "      <td>9484</td>\n",
       "      <td>1668</td>\n",
       "      <td>2018-01-16</td>\n",
       "      <td>CC0</td>\n",
       "      <td>35087677.0</td>\n",
       "      <td>1</td>\n",
       "      <td>0</td>\n",
       "      <td>46</td>\n",
       "    </tr>\n",
       "    <tr>\n",
       "      <th>2</th>\n",
       "      <td>Atom Dataset</td>\n",
       "      <td>Dataset with atom features</td>\n",
       "      <td>https://www.kaggle.com/chfly2000/nomad2018-ato...</td>\n",
       "      <td>chfly2000</td>\n",
       "      <td>0</td>\n",
       "      <td>0</td>\n",
       "      <td>26</td>\n",
       "      <td>1</td>\n",
       "      <td>2018-01-16</td>\n",
       "      <td>Other</td>\n",
       "      <td>0.0</td>\n",
       "      <td>0</td>\n",
       "      <td>0</td>\n",
       "      <td>0</td>\n",
       "    </tr>\n",
       "    <tr>\n",
       "      <th>5</th>\n",
       "      <td>Koppen-Geiger climate classification</td>\n",
       "      <td>A world map shapefile from data observed durin...</td>\n",
       "      <td>https://www.kaggle.com/nighrtwing/koppen-geige...</td>\n",
       "      <td>gabro</td>\n",
       "      <td>0</td>\n",
       "      <td>0</td>\n",
       "      <td>6</td>\n",
       "      <td>0</td>\n",
       "      <td>2018-01-16</td>\n",
       "      <td>Other</td>\n",
       "      <td>777566.0</td>\n",
       "      <td>0</td>\n",
       "      <td>0</td>\n",
       "      <td>1</td>\n",
       "    </tr>\n",
       "    <tr>\n",
       "      <th>17</th>\n",
       "      <td>Alexa Top 1 Million Sites</td>\n",
       "      <td>Rankings of the top 1 million websites, in the...</td>\n",
       "      <td>https://www.kaggle.com/cheedcheed/top1m</td>\n",
       "      <td>SidG</td>\n",
       "      <td>0</td>\n",
       "      <td>0</td>\n",
       "      <td>3</td>\n",
       "      <td>0</td>\n",
       "      <td>2018-01-16</td>\n",
       "      <td>Other</td>\n",
       "      <td>10022849.0</td>\n",
       "      <td>0</td>\n",
       "      <td>0</td>\n",
       "      <td>0</td>\n",
       "    </tr>\n",
       "    <tr>\n",
       "      <th>39</th>\n",
       "      <td>myself_modules</td>\n",
       "      <td>Try to run multi files script</td>\n",
       "      <td>https://www.kaggle.com/paulyangsz/myselfmodules</td>\n",
       "      <td>Paul Yang</td>\n",
       "      <td>0</td>\n",
       "      <td>0</td>\n",
       "      <td>1</td>\n",
       "      <td>0</td>\n",
       "      <td>2018-01-16</td>\n",
       "      <td>GPL</td>\n",
       "      <td>23968.0</td>\n",
       "      <td>0</td>\n",
       "      <td>0</td>\n",
       "      <td>0</td>\n",
       "    </tr>\n",
       "  </tbody>\n",
       "</table>\n",
       "</div>"
      ],
      "text/plain": [
       "                                          title  \\\n",
       "0   Trending YouTube Video Statistics (UPDATED)   \n",
       "2                                  Atom Dataset   \n",
       "5          Koppen-Geiger climate classification   \n",
       "17                    Alexa Top 1 Million Sites   \n",
       "39                               myself_modules   \n",
       "\n",
       "                                          description  \\\n",
       "0   Daily statistics (views, likes, category, tags...   \n",
       "2                          Dataset with atom features   \n",
       "5   A world map shapefile from data observed durin...   \n",
       "17  Rankings of the top 1 million websites, in the...   \n",
       "39                      Try to run multi files script   \n",
       "\n",
       "                                                  url       owner  kernels  \\\n",
       "0        https://www.kaggle.com/datasnaek/youtube-new  Mitchell J        3   \n",
       "2   https://www.kaggle.com/chfly2000/nomad2018-ato...   chfly2000        0   \n",
       "5   https://www.kaggle.com/nighrtwing/koppen-geige...       gabro        0   \n",
       "17            https://www.kaggle.com/cheedcheed/top1m        SidG        0   \n",
       "39    https://www.kaggle.com/paulyangsz/myselfmodules   Paul Yang        0   \n",
       "\n",
       "    discussions  views  downloads last_updated license        size  featured  \\\n",
       "0             4   9484       1668   2018-01-16     CC0  35087677.0         1   \n",
       "2             0     26          1   2018-01-16   Other         0.0         0   \n",
       "5             0      6          0   2018-01-16   Other    777566.0         0   \n",
       "17            0      3          0   2018-01-16   Other  10022849.0         0   \n",
       "39            0      1          0   2018-01-16     GPL     23968.0         0   \n",
       "\n",
       "    super_featured  upvotes  \n",
       "0                0       46  \n",
       "2                0        0  \n",
       "5                0        1  \n",
       "17               0        0  \n",
       "39               0        0  "
      ]
     },
     "execution_count": 6,
     "metadata": {},
     "output_type": "execute_result"
    }
   ],
   "source": [
    "df.dropna(inplace=True)\n",
    "df.head()"
   ]
  },
  {
   "cell_type": "code",
   "execution_count": 7,
   "metadata": {},
   "outputs": [
    {
     "data": {
      "text/plain": [
       "(3084, 14)"
      ]
     },
     "execution_count": 7,
     "metadata": {},
     "output_type": "execute_result"
    }
   ],
   "source": [
    "df.shape"
   ]
  },
  {
   "cell_type": "markdown",
   "metadata": {},
   "source": [
    "# 1.Data set having the maximum number of kernels"
   ]
  },
  {
   "cell_type": "code",
   "execution_count": 8,
   "metadata": {},
   "outputs": [
    {
     "data": {
      "text/plain": [
       "3390"
      ]
     },
     "execution_count": 8,
     "metadata": {},
     "output_type": "execute_result"
    }
   ],
   "source": [
    "df['kernels'].max()"
   ]
  },
  {
   "cell_type": "code",
   "execution_count": 9,
   "metadata": {
    "scrolled": true
   },
   "outputs": [
    {
     "data": {
      "text/html": [
       "<div>\n",
       "<style scoped>\n",
       "    .dataframe tbody tr th:only-of-type {\n",
       "        vertical-align: middle;\n",
       "    }\n",
       "\n",
       "    .dataframe tbody tr th {\n",
       "        vertical-align: top;\n",
       "    }\n",
       "\n",
       "    .dataframe thead th {\n",
       "        text-align: right;\n",
       "    }\n",
       "</style>\n",
       "<table border=\"1\" class=\"dataframe\">\n",
       "  <thead>\n",
       "    <tr style=\"text-align: right;\">\n",
       "      <th></th>\n",
       "      <th>title</th>\n",
       "      <th>description</th>\n",
       "      <th>url</th>\n",
       "      <th>owner</th>\n",
       "      <th>kernels</th>\n",
       "      <th>discussions</th>\n",
       "      <th>views</th>\n",
       "      <th>downloads</th>\n",
       "      <th>last_updated</th>\n",
       "      <th>license</th>\n",
       "      <th>size</th>\n",
       "      <th>featured</th>\n",
       "      <th>super_featured</th>\n",
       "      <th>upvotes</th>\n",
       "    </tr>\n",
       "  </thead>\n",
       "  <tbody>\n",
       "    <tr>\n",
       "      <th>7929</th>\n",
       "      <td>Iris Species</td>\n",
       "      <td>Classify iris plants into three species in thi...</td>\n",
       "      <td>https://www.kaggle.com/uciml/iris</td>\n",
       "      <td>UCI Machine Learning</td>\n",
       "      <td>3390</td>\n",
       "      <td>90</td>\n",
       "      <td>156757</td>\n",
       "      <td>22537</td>\n",
       "      <td>2016-09-27</td>\n",
       "      <td>CC0</td>\n",
       "      <td>15347.0</td>\n",
       "      <td>1</td>\n",
       "      <td>0</td>\n",
       "      <td>484</td>\n",
       "    </tr>\n",
       "  </tbody>\n",
       "</table>\n",
       "</div>"
      ],
      "text/plain": [
       "             title                                        description  \\\n",
       "7929  Iris Species  Classify iris plants into three species in thi...   \n",
       "\n",
       "                                    url                 owner  kernels  \\\n",
       "7929  https://www.kaggle.com/uciml/iris  UCI Machine Learning     3390   \n",
       "\n",
       "      discussions   views  downloads last_updated license     size  featured  \\\n",
       "7929           90  156757      22537   2016-09-27     CC0  15347.0         1   \n",
       "\n",
       "      super_featured  upvotes  \n",
       "7929               0      484  "
      ]
     },
     "execution_count": 9,
     "metadata": {},
     "output_type": "execute_result"
    }
   ],
   "source": [
    "df[df['kernels']==3390]"
   ]
  },
  {
   "cell_type": "markdown",
   "metadata": {},
   "source": [
    "# 2.Data set having maximum number of views"
   ]
  },
  {
   "cell_type": "code",
   "execution_count": 10,
   "metadata": {},
   "outputs": [
    {
     "data": {
      "text/plain": [
       "429745"
      ]
     },
     "execution_count": 10,
     "metadata": {},
     "output_type": "execute_result"
    }
   ],
   "source": [
    "df['views'].max()"
   ]
  },
  {
   "cell_type": "code",
   "execution_count": 11,
   "metadata": {},
   "outputs": [
    {
     "data": {
      "text/html": [
       "<div>\n",
       "<style scoped>\n",
       "    .dataframe tbody tr th:only-of-type {\n",
       "        vertical-align: middle;\n",
       "    }\n",
       "\n",
       "    .dataframe tbody tr th {\n",
       "        vertical-align: top;\n",
       "    }\n",
       "\n",
       "    .dataframe thead th {\n",
       "        text-align: right;\n",
       "    }\n",
       "</style>\n",
       "<table border=\"1\" class=\"dataframe\">\n",
       "  <thead>\n",
       "    <tr style=\"text-align: right;\">\n",
       "      <th></th>\n",
       "      <th>title</th>\n",
       "      <th>description</th>\n",
       "      <th>url</th>\n",
       "      <th>owner</th>\n",
       "      <th>kernels</th>\n",
       "      <th>discussions</th>\n",
       "      <th>views</th>\n",
       "      <th>downloads</th>\n",
       "      <th>last_updated</th>\n",
       "      <th>license</th>\n",
       "      <th>size</th>\n",
       "      <th>featured</th>\n",
       "      <th>super_featured</th>\n",
       "      <th>upvotes</th>\n",
       "    </tr>\n",
       "  </thead>\n",
       "  <tbody>\n",
       "    <tr>\n",
       "      <th>5715</th>\n",
       "      <td>TMDB 5000 Movie Dataset</td>\n",
       "      <td>Metadata on ~5,000 movies from TMDb</td>\n",
       "      <td>https://www.kaggle.com/tmdb/tmdb-movie-metadata</td>\n",
       "      <td>The Movie Database (TMDb)</td>\n",
       "      <td>1388</td>\n",
       "      <td>89</td>\n",
       "      <td>429745</td>\n",
       "      <td>59399</td>\n",
       "      <td>2017-09-28</td>\n",
       "      <td>Other</td>\n",
       "      <td>45742895.0</td>\n",
       "      <td>1</td>\n",
       "      <td>0</td>\n",
       "      <td>983</td>\n",
       "    </tr>\n",
       "  </tbody>\n",
       "</table>\n",
       "</div>"
      ],
      "text/plain": [
       "                        title                          description  \\\n",
       "5715  TMDB 5000 Movie Dataset  Metadata on ~5,000 movies from TMDb   \n",
       "\n",
       "                                                  url  \\\n",
       "5715  https://www.kaggle.com/tmdb/tmdb-movie-metadata   \n",
       "\n",
       "                          owner  kernels  discussions   views  downloads  \\\n",
       "5715  The Movie Database (TMDb)     1388           89  429745      59399   \n",
       "\n",
       "     last_updated license        size  featured  super_featured  upvotes  \n",
       "5715   2017-09-28   Other  45742895.0         1               0      983  "
      ]
     },
     "execution_count": 11,
     "metadata": {},
     "output_type": "execute_result"
    }
   ],
   "source": [
    "df[df['views']==429745]"
   ]
  },
  {
   "cell_type": "markdown",
   "metadata": {},
   "source": [
    "# 3.Data set having the maximum upvotes"
   ]
  },
  {
   "cell_type": "code",
   "execution_count": 12,
   "metadata": {},
   "outputs": [
    {
     "data": {
      "text/plain": [
       "1131"
      ]
     },
     "execution_count": 12,
     "metadata": {},
     "output_type": "execute_result"
    }
   ],
   "source": [
    "df['upvotes'].max()"
   ]
  },
  {
   "cell_type": "code",
   "execution_count": 13,
   "metadata": {},
   "outputs": [
    {
     "data": {
      "text/html": [
       "<div>\n",
       "<style scoped>\n",
       "    .dataframe tbody tr th:only-of-type {\n",
       "        vertical-align: middle;\n",
       "    }\n",
       "\n",
       "    .dataframe tbody tr th {\n",
       "        vertical-align: top;\n",
       "    }\n",
       "\n",
       "    .dataframe thead th {\n",
       "        text-align: right;\n",
       "    }\n",
       "</style>\n",
       "<table border=\"1\" class=\"dataframe\">\n",
       "  <thead>\n",
       "    <tr style=\"text-align: right;\">\n",
       "      <th></th>\n",
       "      <th>title</th>\n",
       "      <th>description</th>\n",
       "      <th>url</th>\n",
       "      <th>owner</th>\n",
       "      <th>kernels</th>\n",
       "      <th>discussions</th>\n",
       "      <th>views</th>\n",
       "      <th>downloads</th>\n",
       "      <th>last_updated</th>\n",
       "      <th>license</th>\n",
       "      <th>size</th>\n",
       "      <th>featured</th>\n",
       "      <th>super_featured</th>\n",
       "      <th>upvotes</th>\n",
       "    </tr>\n",
       "  </thead>\n",
       "  <tbody>\n",
       "    <tr>\n",
       "      <th>7822</th>\n",
       "      <td>Credit Card Fraud Detection</td>\n",
       "      <td>Anonymized credit card transactions labeled as...</td>\n",
       "      <td>https://www.kaggle.com/dalpozz/creditcardfraud</td>\n",
       "      <td>Andrea</td>\n",
       "      <td>1761</td>\n",
       "      <td>73</td>\n",
       "      <td>416425</td>\n",
       "      <td>49627</td>\n",
       "      <td>2016-11-05</td>\n",
       "      <td>ODbL</td>\n",
       "      <td>150828752.0</td>\n",
       "      <td>1</td>\n",
       "      <td>0</td>\n",
       "      <td>1131</td>\n",
       "    </tr>\n",
       "  </tbody>\n",
       "</table>\n",
       "</div>"
      ],
      "text/plain": [
       "                            title  \\\n",
       "7822  Credit Card Fraud Detection   \n",
       "\n",
       "                                            description  \\\n",
       "7822  Anonymized credit card transactions labeled as...   \n",
       "\n",
       "                                                 url   owner  kernels  \\\n",
       "7822  https://www.kaggle.com/dalpozz/creditcardfraud  Andrea     1761   \n",
       "\n",
       "      discussions   views  downloads last_updated license         size  \\\n",
       "7822           73  416425      49627   2016-11-05    ODbL  150828752.0   \n",
       "\n",
       "      featured  super_featured  upvotes  \n",
       "7822         1               0     1131  "
      ]
     },
     "execution_count": 13,
     "metadata": {},
     "output_type": "execute_result"
    }
   ],
   "source": [
    "df[df['upvotes']==1131]"
   ]
  },
  {
   "cell_type": "markdown",
   "metadata": {},
   "source": [
    "# 4.How many data frames are added each year"
   ]
  },
  {
   "cell_type": "code",
   "execution_count": 14,
   "metadata": {
    "scrolled": true
   },
   "outputs": [
    {
     "data": {
      "text/plain": [
       "array(['2018-01-16', '2018-01-15', '2018-01-14', '2018-01-13',\n",
       "       '2018-01-12', '2018-01-11', '2018-01-10', '2018-01-09',\n",
       "       '2018-01-08', '2018-01-07', '2018-01-06', '2018-01-05',\n",
       "       '2018-01-04', '2018-01-03', '2018-01-02', '2018-01-01',\n",
       "       '2017-12-31', '2017-12-30', '2017-12-29', '2017-12-28',\n",
       "       '2017-12-27', '2017-12-26', '2017-12-25', '2017-12-24',\n",
       "       '2017-12-23', '2017-12-22', '2017-12-21', '2017-12-20',\n",
       "       '2017-12-19', '2017-12-18', '2017-12-17', '2017-12-16',\n",
       "       '2017-12-15', '2017-12-14', '2017-12-13', '2017-12-12',\n",
       "       '2017-12-11', '2017-12-10', '2017-12-09', '2017-12-08',\n",
       "       '2017-12-07', '2017-12-06', '2017-12-05', '2017-12-04',\n",
       "       '2017-12-03', '2017-12-02', '2017-12-01', '2017-11-30',\n",
       "       '2017-11-29', '2017-11-28', '2017-11-27', '2017-11-26',\n",
       "       '2017-11-25', '2017-11-24', '2017-11-23', '2017-11-22',\n",
       "       '2017-11-21', '2017-11-20', '2017-11-19', '2017-11-18',\n",
       "       '2017-11-17', '2017-11-16', '2017-11-15', '2017-11-14',\n",
       "       '2017-11-13', '2017-11-12', '2017-11-11', '2017-11-10',\n",
       "       '2017-11-09', '2017-11-08', '2017-11-07', '2017-11-06',\n",
       "       '2017-11-05', '2017-11-04', '2017-11-03', '2017-11-02',\n",
       "       '2017-11-01', '2017-10-31', '2017-10-30', '2017-10-29',\n",
       "       '2017-10-27', '2017-10-26', '2017-10-25', '2017-10-24',\n",
       "       '2017-10-23', '2017-10-22', '2017-10-21', '2017-10-20',\n",
       "       '2017-10-19', '2017-10-18', '2017-10-17', '2017-10-16',\n",
       "       '2017-10-15', '2017-10-14', '2017-10-13', '2017-10-12',\n",
       "       '2017-10-11', '2017-10-10', '2017-10-09', '2017-10-08',\n",
       "       '2017-10-07', '2017-10-06', '2017-10-05', '2017-10-04',\n",
       "       '2017-10-03', '2017-10-02', '2017-10-01', '2017-09-30',\n",
       "       '2017-09-29', '2017-09-28', '2017-09-27', '2017-09-26',\n",
       "       '2017-09-25', '2017-09-24', '2017-09-23', '2017-09-22',\n",
       "       '2017-09-21', '2017-09-20', '2017-09-19', '2017-09-18',\n",
       "       '2017-09-17', '2017-09-16', '2017-09-15', '2017-09-14',\n",
       "       '2017-09-13', '2017-09-12', '2017-09-11', '2017-09-10',\n",
       "       '2017-09-09', '2017-09-08', '2017-09-07', '2017-09-06',\n",
       "       '2017-09-05', '2017-09-04', '2017-09-03', '2017-09-02',\n",
       "       '2017-09-01', '2017-08-31', '2017-08-30', '2017-08-29',\n",
       "       '2017-08-28', '2017-08-27', '2017-08-26', '2017-08-25',\n",
       "       '2017-08-24', '2017-08-23', '2017-08-22', '2017-08-21',\n",
       "       '2017-08-20', '2017-08-19', '2017-08-18', '2017-08-17',\n",
       "       '2017-08-16', '2017-08-15', '2017-08-14', '2017-08-13',\n",
       "       '2017-08-12', '2017-08-11', '2017-08-10', '2017-08-09',\n",
       "       '2017-08-08', '2017-08-07', '2017-08-06', '2017-08-05',\n",
       "       '2017-08-04', '2017-08-03', '2017-08-02', '2017-08-01',\n",
       "       '2017-07-31', '2017-07-30', '2017-07-29', '2017-07-28',\n",
       "       '2017-07-27', '2017-07-26', '2017-07-25', '2017-07-24',\n",
       "       '2017-07-23', '2017-07-22', '2017-07-21', '2017-07-20',\n",
       "       '2017-07-19', '2017-07-18', '2017-07-17', '2017-07-16',\n",
       "       '2017-07-15', '2017-07-14', '2017-07-13', '2017-07-12',\n",
       "       '2017-07-11', '2017-07-10', '2017-07-09', '2017-07-08',\n",
       "       '2017-07-07', '2017-07-06', '2017-07-05', '2017-07-04',\n",
       "       '2017-07-03', '2017-07-02', '2017-07-01', '2017-06-30',\n",
       "       '2017-06-29', '2017-06-28', '2017-06-27', '2017-06-26',\n",
       "       '2017-06-25', '2017-06-24', '2017-06-23', '2017-06-22',\n",
       "       '2017-06-21', '2017-06-20', '2017-06-19', '2017-06-18',\n",
       "       '2017-06-17', '2017-06-16', '2017-06-15', '2017-06-14',\n",
       "       '2017-06-13', '2017-06-12', '2017-06-11', '2017-06-09',\n",
       "       '2017-06-08', '2017-06-07', '2017-06-06', '2017-06-05',\n",
       "       '2017-06-04', '2017-06-03', '2017-06-02', '2017-06-01',\n",
       "       '2017-05-31', '2017-05-30', '2017-05-29', '2017-05-28',\n",
       "       '2017-05-27', '2017-05-26', '2017-05-25', '2017-05-24',\n",
       "       '2017-05-23', '2017-05-22', '2017-05-21', '2017-05-20',\n",
       "       '2017-05-19', '2017-05-18', '2017-05-17', '2017-05-16',\n",
       "       '2017-05-15', '2017-05-14', '2017-05-13', '2017-05-12',\n",
       "       '2017-05-11', '2017-05-10', '2017-05-09', '2017-05-08',\n",
       "       '2017-05-07', '2017-05-06', '2017-05-05', '2017-05-04',\n",
       "       '2017-05-03', '2017-05-02', '2017-05-01', '2017-04-30',\n",
       "       '2017-04-29', '2017-04-28', '2017-04-27', '2017-04-26',\n",
       "       '2017-04-25', '2017-04-24', '2017-04-23', '2017-04-22',\n",
       "       '2017-04-21', '2017-04-20', '2017-04-19', '2017-04-18',\n",
       "       '2017-04-17', '2017-04-16', '2017-04-15', '2017-04-13',\n",
       "       '2017-04-12', '2017-04-11', '2017-04-10', '2017-04-09',\n",
       "       '2017-04-08', '2017-04-07', '2017-04-06', '2017-04-05',\n",
       "       '2017-04-04', '2017-04-03', '2017-04-02', '2017-03-31',\n",
       "       '2017-03-30', '2017-03-29', '2017-03-28', '2017-03-27',\n",
       "       '2017-03-26', '2017-03-25', '2017-03-24', '2017-03-23',\n",
       "       '2017-03-22', '2017-03-21', '2017-03-20', '2017-03-19',\n",
       "       '2017-03-18', '2017-03-17', '2017-03-16', '2017-03-15',\n",
       "       '2017-03-14', '2017-03-13', '2017-03-12', '2017-03-11',\n",
       "       '2017-03-10', '2017-03-09', '2017-03-08', '2017-03-07',\n",
       "       '2017-03-06', '2017-03-05', '2017-03-03', '2017-03-02',\n",
       "       '2017-03-01', '2017-02-28', '2017-02-27', '2017-02-26',\n",
       "       '2017-02-25', '2017-02-24', '2017-02-23', '2017-02-22',\n",
       "       '2017-02-21', '2017-02-20', '2017-02-19', '2017-02-18',\n",
       "       '2017-02-17', '2017-02-16', '2017-02-15', '2017-02-14',\n",
       "       '2017-02-13', '2017-02-12', '2017-02-11', '2017-02-10',\n",
       "       '2017-02-09', '2017-02-08', '2017-02-07', '2017-02-06',\n",
       "       '2017-02-05', '2017-02-04', '2017-02-03', '2017-02-02',\n",
       "       '2017-02-01', '2017-01-31', '2017-01-30', '2017-01-29',\n",
       "       '2017-01-28', '2017-01-27', '2017-01-26', '2017-01-25',\n",
       "       '2017-01-24', '2017-01-23', '2017-01-21', '2017-01-20',\n",
       "       '2017-01-19', '2017-01-18', '2017-01-17', '2017-01-16',\n",
       "       '2017-01-15', '2017-01-14', '2017-01-13', '2017-01-12',\n",
       "       '2017-01-11', '2017-01-10', '2017-01-09', '2017-01-08',\n",
       "       '2017-01-07', '2017-01-06', '2017-01-05', '2017-01-04',\n",
       "       '2017-01-03', '2017-01-02', '2017-01-01', '2016-12-31',\n",
       "       '2016-12-30', '2016-12-29', '2016-12-28', '2016-12-26',\n",
       "       '2016-12-25', '2016-12-24', '2016-12-23', '2016-12-22',\n",
       "       '2016-12-21', '2016-12-20', '2016-12-19', '2016-12-18',\n",
       "       '2016-12-17', '2016-12-15', '2016-12-14', '2016-12-13',\n",
       "       '2016-12-12', '2016-12-11', '2016-12-10', '2016-12-09',\n",
       "       '2016-12-08', '2016-12-07', '2016-12-06', '2016-12-05',\n",
       "       '2016-12-04', '2016-12-03', '2016-12-02', '2016-12-01',\n",
       "       '2016-11-30', '2016-11-29', '2016-11-28', '2016-11-27',\n",
       "       '2016-11-26', '2016-11-25', '2016-11-24', '2016-11-23',\n",
       "       '2016-11-22', '2016-11-21', '2016-11-20', '2016-11-19',\n",
       "       '2016-11-18', '2016-11-17', '2016-11-16', '2016-11-15',\n",
       "       '2016-11-14', '2016-11-13', '2016-11-12', '2016-11-11',\n",
       "       '2016-11-10', '2016-11-09', '2016-11-08', '2016-11-07',\n",
       "       '2016-11-06', '2016-11-05', '2016-11-04', '2016-11-03',\n",
       "       '2016-11-02', '2016-11-01', '2016-10-31', '2016-10-30',\n",
       "       '2016-10-28', '2016-10-27', '2016-10-26', '2016-10-25',\n",
       "       '2016-10-24', '2016-10-23', '2016-10-22', '2016-10-21',\n",
       "       '2016-10-20', '2016-10-19', '2016-10-18', '2016-10-16',\n",
       "       '2016-10-15', '2016-10-14', '2016-10-13', '2016-10-12',\n",
       "       '2016-10-11', '2016-10-08', '2016-10-07', '2016-10-06',\n",
       "       '2016-10-05', '2016-10-04', '2016-10-03', '2016-10-02',\n",
       "       '2016-09-30', '2016-09-28', '2016-09-27', '2016-09-26',\n",
       "       '2016-09-25', '2016-09-24', '2016-09-23', '2016-09-22',\n",
       "       '2016-09-21', '2016-09-20', '2016-09-19', '2016-09-18',\n",
       "       '2016-09-17', '2016-09-15', '2016-09-14', '2016-09-13',\n",
       "       '2016-09-12', '2016-09-11', '2016-09-09', '2016-09-08',\n",
       "       '2016-09-07', '2016-09-06', '2016-09-05', '2016-09-02',\n",
       "       '2016-08-31', '2016-08-30', '2016-08-29', '2016-08-26',\n",
       "       '2016-08-25', '2016-08-24', '2016-08-23', '2016-08-22',\n",
       "       '2016-08-21', '2016-08-20', '2016-08-19', '2016-08-18',\n",
       "       '2016-08-17', '2016-08-05', '2016-08-03', '2016-07-29',\n",
       "       '2016-07-26', '2016-07-20', '2016-07-16', '2016-07-03',\n",
       "       '2016-07-01', '2016-06-16', '2016-06-14', '2016-06-09',\n",
       "       '2016-06-03', '2016-05-29', '2016-05-26', '2016-05-20',\n",
       "       '2016-05-17', '2016-05-09', '2016-05-02', '2016-04-26'],\n",
       "      dtype=object)"
      ]
     },
     "execution_count": 14,
     "metadata": {},
     "output_type": "execute_result"
    }
   ],
   "source": [
    "df['last_updated'].unique()"
   ]
  },
  {
   "cell_type": "code",
   "execution_count": 15,
   "metadata": {},
   "outputs": [
    {
     "data": {
      "text/plain": [
       "140"
      ]
     },
     "execution_count": 15,
     "metadata": {},
     "output_type": "execute_result"
    }
   ],
   "source": [
    "df[(df['last_updated']>='2018-01-01') & (df['last_updated']<='2018-12-31')]['title'].count()"
   ]
  },
  {
   "cell_type": "code",
   "execution_count": 16,
   "metadata": {},
   "outputs": [
    {
     "data": {
      "text/plain": [
       "2513"
      ]
     },
     "execution_count": 16,
     "metadata": {},
     "output_type": "execute_result"
    }
   ],
   "source": [
    "df[(df['last_updated']>='2017-01-01') & (df['last_updated']<='2017-12-31')]['title'].count()"
   ]
  },
  {
   "cell_type": "code",
   "execution_count": 17,
   "metadata": {},
   "outputs": [
    {
     "data": {
      "text/plain": [
       "431"
      ]
     },
     "execution_count": 17,
     "metadata": {},
     "output_type": "execute_result"
    }
   ],
   "source": [
    "df[(df['last_updated']>='2016-01-01') & (df['last_updated']<='2016-12-31')]['title'].count()"
   ]
  },
  {
   "cell_type": "code",
   "execution_count": 18,
   "metadata": {},
   "outputs": [
    {
     "data": {
      "text/plain": [
       "0"
      ]
     },
     "execution_count": 18,
     "metadata": {},
     "output_type": "execute_result"
    }
   ],
   "source": [
    "df[(df['last_updated']>='2015-01-01') & (df['last_updated']<='2015-12-31')]['title'].count()"
   ]
  },
  {
   "cell_type": "code",
   "execution_count": 19,
   "metadata": {},
   "outputs": [
    {
     "data": {
      "text/html": [
       "<div>\n",
       "<style scoped>\n",
       "    .dataframe tbody tr th:only-of-type {\n",
       "        vertical-align: middle;\n",
       "    }\n",
       "\n",
       "    .dataframe tbody tr th {\n",
       "        vertical-align: top;\n",
       "    }\n",
       "\n",
       "    .dataframe thead th {\n",
       "        text-align: right;\n",
       "    }\n",
       "</style>\n",
       "<table border=\"1\" class=\"dataframe\">\n",
       "  <thead>\n",
       "    <tr style=\"text-align: right;\">\n",
       "      <th></th>\n",
       "      <th>years</th>\n",
       "      <th>data frames</th>\n",
       "    </tr>\n",
       "  </thead>\n",
       "  <tbody>\n",
       "    <tr>\n",
       "      <th>0</th>\n",
       "      <td>2016</td>\n",
       "      <td>431</td>\n",
       "    </tr>\n",
       "    <tr>\n",
       "      <th>1</th>\n",
       "      <td>2017</td>\n",
       "      <td>2513</td>\n",
       "    </tr>\n",
       "    <tr>\n",
       "      <th>2</th>\n",
       "      <td>2018</td>\n",
       "      <td>140</td>\n",
       "    </tr>\n",
       "    <tr>\n",
       "      <th>3</th>\n",
       "      <td>2015</td>\n",
       "      <td>0</td>\n",
       "    </tr>\n",
       "  </tbody>\n",
       "</table>\n",
       "</div>"
      ],
      "text/plain": [
       "   years  data frames\n",
       "0   2016          431\n",
       "1   2017         2513\n",
       "2   2018          140\n",
       "3   2015            0"
      ]
     },
     "execution_count": 19,
     "metadata": {},
     "output_type": "execute_result"
    }
   ],
   "source": [
    "data=[[2016,431],[2017,2513],[2018,140],[2015,0]]\n",
    "x=pd.DataFrame(data,columns=['years','data frames'])\n",
    "x.head()"
   ]
  },
  {
   "cell_type": "code",
   "execution_count": 20,
   "metadata": {},
   "outputs": [],
   "source": [
    "x.set_index('years',inplace=True)"
   ]
  },
  {
   "cell_type": "code",
   "execution_count": 21,
   "metadata": {},
   "outputs": [
    {
     "data": {
      "text/html": [
       "<div>\n",
       "<style scoped>\n",
       "    .dataframe tbody tr th:only-of-type {\n",
       "        vertical-align: middle;\n",
       "    }\n",
       "\n",
       "    .dataframe tbody tr th {\n",
       "        vertical-align: top;\n",
       "    }\n",
       "\n",
       "    .dataframe thead th {\n",
       "        text-align: right;\n",
       "    }\n",
       "</style>\n",
       "<table border=\"1\" class=\"dataframe\">\n",
       "  <thead>\n",
       "    <tr style=\"text-align: right;\">\n",
       "      <th></th>\n",
       "      <th>data frames</th>\n",
       "    </tr>\n",
       "    <tr>\n",
       "      <th>years</th>\n",
       "      <th></th>\n",
       "    </tr>\n",
       "  </thead>\n",
       "  <tbody>\n",
       "    <tr>\n",
       "      <th>2016</th>\n",
       "      <td>431</td>\n",
       "    </tr>\n",
       "    <tr>\n",
       "      <th>2017</th>\n",
       "      <td>2513</td>\n",
       "    </tr>\n",
       "    <tr>\n",
       "      <th>2018</th>\n",
       "      <td>140</td>\n",
       "    </tr>\n",
       "    <tr>\n",
       "      <th>2015</th>\n",
       "      <td>0</td>\n",
       "    </tr>\n",
       "  </tbody>\n",
       "</table>\n",
       "</div>"
      ],
      "text/plain": [
       "       data frames\n",
       "years             \n",
       "2016           431\n",
       "2017          2513\n",
       "2018           140\n",
       "2015             0"
      ]
     },
     "execution_count": 21,
     "metadata": {},
     "output_type": "execute_result"
    }
   ],
   "source": [
    "x.head()"
   ]
  },
  {
   "cell_type": "code",
   "execution_count": 22,
   "metadata": {},
   "outputs": [
    {
     "data": {
      "application/vnd.plotly.v1+json": {
       "config": {
        "linkText": "Export to plot.ly",
        "plotlyServerURL": "https://plot.ly",
        "responsive": true,
        "showLink": true
       },
       "data": [
        {
         "marker": {
          "color": "rgba(255, 153, 51, 0.6)",
          "line": {
           "color": "rgba(255, 153, 51, 1.0)",
           "width": 1
          }
         },
         "name": "data frames",
         "orientation": "v",
         "text": "",
         "type": "bar",
         "uid": "90fbe24d-c18c-4be9-9085-43d522f41ac5",
         "x": [
          2016,
          2017,
          2018,
          2015
         ],
         "y": [
          431,
          2513,
          140,
          0
         ]
        }
       ],
       "layout": {
        "legend": {
         "bgcolor": "#F5F6F9",
         "font": {
          "color": "#4D5663"
         }
        },
        "paper_bgcolor": "#F5F6F9",
        "plot_bgcolor": "#F5F6F9",
        "title": {
         "font": {
          "color": "#4D5663"
         }
        },
        "xaxis": {
         "gridcolor": "#E1E5ED",
         "showgrid": true,
         "tickfont": {
          "color": "#4D5663"
         },
         "title": {
          "font": {
           "color": "#4D5663"
          },
          "text": ""
         },
         "zerolinecolor": "#E1E5ED"
        },
        "yaxis": {
         "gridcolor": "#E1E5ED",
         "showgrid": true,
         "tickfont": {
          "color": "#4D5663"
         },
         "title": {
          "font": {
           "color": "#4D5663"
          },
          "text": ""
         },
         "zerolinecolor": "#E1E5ED"
        }
       }
      },
      "text/html": [
       "<div>\n",
       "        \n",
       "        \n",
       "            <div id=\"b7f26a0c-2ed2-439d-b7bf-a4520d4166cd\" class=\"plotly-graph-div\" style=\"height:525px; width:100%;\"></div>\n",
       "            <script type=\"text/javascript\">\n",
       "                require([\"plotly\"], function(Plotly) {\n",
       "                    window.PLOTLYENV=window.PLOTLYENV || {};\n",
       "                    window.PLOTLYENV.BASE_URL='https://plot.ly';\n",
       "                    \n",
       "                if (document.getElementById(\"b7f26a0c-2ed2-439d-b7bf-a4520d4166cd\")) {\n",
       "                    Plotly.newPlot(\n",
       "                        'b7f26a0c-2ed2-439d-b7bf-a4520d4166cd',\n",
       "                        [{\"marker\": {\"color\": \"rgba(255, 153, 51, 0.6)\", \"line\": {\"color\": \"rgba(255, 153, 51, 1.0)\", \"width\": 1}}, \"name\": \"data frames\", \"orientation\": \"v\", \"text\": \"\", \"type\": \"bar\", \"uid\": \"1fd463a3-7b5c-4aeb-a396-df46fc26c6ed\", \"x\": [2016, 2017, 2018, 2015], \"y\": [431, 2513, 140, 0]}],\n",
       "                        {\"legend\": {\"bgcolor\": \"#F5F6F9\", \"font\": {\"color\": \"#4D5663\"}}, \"paper_bgcolor\": \"#F5F6F9\", \"plot_bgcolor\": \"#F5F6F9\", \"title\": {\"font\": {\"color\": \"#4D5663\"}}, \"xaxis\": {\"gridcolor\": \"#E1E5ED\", \"showgrid\": true, \"tickfont\": {\"color\": \"#4D5663\"}, \"title\": {\"font\": {\"color\": \"#4D5663\"}, \"text\": \"\"}, \"zerolinecolor\": \"#E1E5ED\"}, \"yaxis\": {\"gridcolor\": \"#E1E5ED\", \"showgrid\": true, \"tickfont\": {\"color\": \"#4D5663\"}, \"title\": {\"font\": {\"color\": \"#4D5663\"}, \"text\": \"\"}, \"zerolinecolor\": \"#E1E5ED\"}},\n",
       "                        {\"showLink\": true, \"linkText\": \"Export to plot.ly\", \"plotlyServerURL\": \"https://plot.ly\", \"responsive\": true}\n",
       "                    ).then(function(){\n",
       "                            \n",
       "var gd = document.getElementById('b7f26a0c-2ed2-439d-b7bf-a4520d4166cd');\n",
       "var x = new MutationObserver(function (mutations, observer) {{\n",
       "        var display = window.getComputedStyle(gd).display;\n",
       "        if (!display || display === 'none') {{\n",
       "            console.log([gd, 'removed!']);\n",
       "            Plotly.purge(gd);\n",
       "            observer.disconnect();\n",
       "        }}\n",
       "}});\n",
       "\n",
       "// Listen for the removal of the full notebook cells\n",
       "var notebookContainer = gd.closest('#notebook-container');\n",
       "if (notebookContainer) {{\n",
       "    x.observe(notebookContainer, {childList: true});\n",
       "}}\n",
       "\n",
       "// Listen for the clearing of the current output cell\n",
       "var outputEl = gd.closest('.output');\n",
       "if (outputEl) {{\n",
       "    x.observe(outputEl, {childList: true});\n",
       "}}\n",
       "\n",
       "                        })\n",
       "                };\n",
       "                });\n",
       "            </script>\n",
       "        </div>"
      ]
     },
     "metadata": {},
     "output_type": "display_data"
    }
   ],
   "source": [
    "x.iplot(kind='bar')"
   ]
  },
  {
   "cell_type": "markdown",
   "metadata": {},
   "source": [
    "# 5.What are different kinds of license of data set and its numbers"
   ]
  },
  {
   "cell_type": "code",
   "execution_count": 23,
   "metadata": {},
   "outputs": [
    {
     "data": {
      "text/plain": [
       "Other    1220\n",
       "CC0      1118\n",
       "CC4       404\n",
       "ODbL      269\n",
       "GPL        43\n",
       "CC3        30\n",
       "Name: license, dtype: int64"
      ]
     },
     "execution_count": 23,
     "metadata": {},
     "output_type": "execute_result"
    }
   ],
   "source": [
    "df['license'].value_counts()"
   ]
  },
  {
   "cell_type": "code",
   "execution_count": 24,
   "metadata": {
    "scrolled": false
   },
   "outputs": [
    {
     "data": {
      "application/vnd.plotly.v1+json": {
       "config": {
        "linkText": "Export to plot.ly",
        "plotlyServerURL": "https://plot.ly",
        "responsive": true,
        "showLink": true
       },
       "data": [
        {
         "marker": {
          "color": "rgba(0, 128, 0, 0.6)",
          "line": {
           "color": "rgba(0, 128, 0, 1.0)",
           "width": 1
          }
         },
         "name": "license",
         "orientation": "v",
         "text": "",
         "type": "bar",
         "uid": "630f31c8-09f7-4dcf-879d-3229fe6ede67",
         "x": [
          "Other",
          "CC0",
          "CC4",
          "ODbL",
          "GPL",
          "CC3"
         ],
         "y": [
          1220,
          1118,
          404,
          269,
          43,
          30
         ]
        }
       ],
       "layout": {
        "legend": {
         "bgcolor": "#F5F6F9",
         "font": {
          "color": "#4D5663"
         }
        },
        "paper_bgcolor": "#F5F6F9",
        "plot_bgcolor": "#F5F6F9",
        "title": {
         "font": {
          "color": "#4D5663"
         }
        },
        "xaxis": {
         "gridcolor": "#E1E5ED",
         "showgrid": true,
         "tickfont": {
          "color": "#4D5663"
         },
         "title": {
          "font": {
           "color": "#4D5663"
          },
          "text": ""
         },
         "zerolinecolor": "#E1E5ED"
        },
        "yaxis": {
         "gridcolor": "#E1E5ED",
         "showgrid": true,
         "tickfont": {
          "color": "#4D5663"
         },
         "title": {
          "font": {
           "color": "#4D5663"
          },
          "text": ""
         },
         "zerolinecolor": "#E1E5ED"
        }
       }
      },
      "text/html": [
       "<div>\n",
       "        \n",
       "        \n",
       "            <div id=\"4467a0d0-d538-4628-b7fc-cbec6bb727cc\" class=\"plotly-graph-div\" style=\"height:525px; width:100%;\"></div>\n",
       "            <script type=\"text/javascript\">\n",
       "                require([\"plotly\"], function(Plotly) {\n",
       "                    window.PLOTLYENV=window.PLOTLYENV || {};\n",
       "                    window.PLOTLYENV.BASE_URL='https://plot.ly';\n",
       "                    \n",
       "                if (document.getElementById(\"4467a0d0-d538-4628-b7fc-cbec6bb727cc\")) {\n",
       "                    Plotly.newPlot(\n",
       "                        '4467a0d0-d538-4628-b7fc-cbec6bb727cc',\n",
       "                        [{\"marker\": {\"color\": \"rgba(0, 128, 0, 0.6)\", \"line\": {\"color\": \"rgba(0, 128, 0, 1.0)\", \"width\": 1}}, \"name\": \"license\", \"orientation\": \"v\", \"text\": \"\", \"type\": \"bar\", \"uid\": \"83333674-d4e1-48b2-9d58-b989b575af70\", \"x\": [\"Other\", \"CC0\", \"CC4\", \"ODbL\", \"GPL\", \"CC3\"], \"y\": [1220, 1118, 404, 269, 43, 30]}],\n",
       "                        {\"legend\": {\"bgcolor\": \"#F5F6F9\", \"font\": {\"color\": \"#4D5663\"}}, \"paper_bgcolor\": \"#F5F6F9\", \"plot_bgcolor\": \"#F5F6F9\", \"title\": {\"font\": {\"color\": \"#4D5663\"}}, \"xaxis\": {\"gridcolor\": \"#E1E5ED\", \"showgrid\": true, \"tickfont\": {\"color\": \"#4D5663\"}, \"title\": {\"font\": {\"color\": \"#4D5663\"}, \"text\": \"\"}, \"zerolinecolor\": \"#E1E5ED\"}, \"yaxis\": {\"gridcolor\": \"#E1E5ED\", \"showgrid\": true, \"tickfont\": {\"color\": \"#4D5663\"}, \"title\": {\"font\": {\"color\": \"#4D5663\"}, \"text\": \"\"}, \"zerolinecolor\": \"#E1E5ED\"}},\n",
       "                        {\"showLink\": true, \"linkText\": \"Export to plot.ly\", \"plotlyServerURL\": \"https://plot.ly\", \"responsive\": true}\n",
       "                    ).then(function(){\n",
       "                            \n",
       "var gd = document.getElementById('4467a0d0-d538-4628-b7fc-cbec6bb727cc');\n",
       "var x = new MutationObserver(function (mutations, observer) {{\n",
       "        var display = window.getComputedStyle(gd).display;\n",
       "        if (!display || display === 'none') {{\n",
       "            console.log([gd, 'removed!']);\n",
       "            Plotly.purge(gd);\n",
       "            observer.disconnect();\n",
       "        }}\n",
       "}});\n",
       "\n",
       "// Listen for the removal of the full notebook cells\n",
       "var notebookContainer = gd.closest('#notebook-container');\n",
       "if (notebookContainer) {{\n",
       "    x.observe(notebookContainer, {childList: true});\n",
       "}}\n",
       "\n",
       "// Listen for the clearing of the current output cell\n",
       "var outputEl = gd.closest('.output');\n",
       "if (outputEl) {{\n",
       "    x.observe(outputEl, {childList: true});\n",
       "}}\n",
       "\n",
       "                        })\n",
       "                };\n",
       "                });\n",
       "            </script>\n",
       "        </div>"
      ]
     },
     "metadata": {},
     "output_type": "display_data"
    }
   ],
   "source": [
    "m=df['license'].value_counts()\n",
    "m.iplot(kind='bar',colors='green')"
   ]
  },
  {
   "cell_type": "markdown",
   "metadata": {},
   "source": [
    "# 6.Views of data set of different license"
   ]
  },
  {
   "cell_type": "code",
   "execution_count": 33,
   "metadata": {},
   "outputs": [
    {
     "data": {
      "text/plain": [
       "license\n",
       "CC0      1118\n",
       "CC3        30\n",
       "CC4       404\n",
       "GPL        43\n",
       "ODbL      269\n",
       "Other    1220\n",
       "Name: views, dtype: int64"
      ]
     },
     "execution_count": 33,
     "metadata": {},
     "output_type": "execute_result"
    }
   ],
   "source": [
    "df.groupby('license')['views'].count()"
   ]
  },
  {
   "cell_type": "code",
   "execution_count": 72,
   "metadata": {},
   "outputs": [
    {
     "data": {
      "application/vnd.plotly.v1+json": {
       "config": {
        "linkText": "Export to plot.ly",
        "plotlyServerURL": "https://plot.ly",
        "responsive": true,
        "showLink": true
       },
       "data": [
        {
         "marker": {
          "color": "rgba(255, 0, 136, 0.6)",
          "line": {
           "color": "rgba(255, 0, 136, 1.0)",
           "width": 1
          }
         },
         "name": "views",
         "orientation": "v",
         "text": "",
         "type": "bar",
         "uid": "8ac41ac6-09a7-4701-aa3d-e59881863145",
         "x": [
          "CC0",
          "CC3",
          "CC4",
          "GPL",
          "ODbL",
          "Other"
         ],
         "y": [
          1118,
          30,
          404,
          43,
          269,
          1220
         ]
        }
       ],
       "layout": {
        "legend": {
         "bgcolor": "#F5F6F9",
         "font": {
          "color": "#4D5663"
         }
        },
        "paper_bgcolor": "#F5F6F9",
        "plot_bgcolor": "#F5F6F9",
        "title": {
         "font": {
          "color": "#4D5663"
         }
        },
        "xaxis": {
         "gridcolor": "#E1E5ED",
         "showgrid": true,
         "tickfont": {
          "color": "#4D5663"
         },
         "title": {
          "font": {
           "color": "#4D5663"
          },
          "text": "Number of views "
         },
         "zerolinecolor": "#E1E5ED"
        },
        "yaxis": {
         "gridcolor": "#E1E5ED",
         "showgrid": true,
         "tickfont": {
          "color": "#4D5663"
         },
         "title": {
          "font": {
           "color": "#4D5663"
          },
          "text": ""
         },
         "zerolinecolor": "#E1E5ED"
        }
       }
      },
      "text/html": [
       "<div>\n",
       "        \n",
       "        \n",
       "            <div id=\"63b5613c-2ced-4e41-a622-40cee3fd8df5\" class=\"plotly-graph-div\" style=\"height:525px; width:100%;\"></div>\n",
       "            <script type=\"text/javascript\">\n",
       "                require([\"plotly\"], function(Plotly) {\n",
       "                    window.PLOTLYENV=window.PLOTLYENV || {};\n",
       "                    window.PLOTLYENV.BASE_URL='https://plot.ly';\n",
       "                    \n",
       "                if (document.getElementById(\"63b5613c-2ced-4e41-a622-40cee3fd8df5\")) {\n",
       "                    Plotly.newPlot(\n",
       "                        '63b5613c-2ced-4e41-a622-40cee3fd8df5',\n",
       "                        [{\"marker\": {\"color\": \"rgba(255, 0, 136, 0.6)\", \"line\": {\"color\": \"rgba(255, 0, 136, 1.0)\", \"width\": 1}}, \"name\": \"views\", \"orientation\": \"v\", \"text\": \"\", \"type\": \"bar\", \"uid\": \"6246f98d-b491-4d7f-83c5-64a7927dc022\", \"x\": [\"CC0\", \"CC3\", \"CC4\", \"GPL\", \"ODbL\", \"Other\"], \"y\": [1118, 30, 404, 43, 269, 1220]}],\n",
       "                        {\"legend\": {\"bgcolor\": \"#F5F6F9\", \"font\": {\"color\": \"#4D5663\"}}, \"paper_bgcolor\": \"#F5F6F9\", \"plot_bgcolor\": \"#F5F6F9\", \"title\": {\"font\": {\"color\": \"#4D5663\"}}, \"xaxis\": {\"gridcolor\": \"#E1E5ED\", \"showgrid\": true, \"tickfont\": {\"color\": \"#4D5663\"}, \"title\": {\"font\": {\"color\": \"#4D5663\"}, \"text\": \"Number of views \"}, \"zerolinecolor\": \"#E1E5ED\"}, \"yaxis\": {\"gridcolor\": \"#E1E5ED\", \"showgrid\": true, \"tickfont\": {\"color\": \"#4D5663\"}, \"title\": {\"font\": {\"color\": \"#4D5663\"}, \"text\": \"\"}, \"zerolinecolor\": \"#E1E5ED\"}},\n",
       "                        {\"showLink\": true, \"linkText\": \"Export to plot.ly\", \"plotlyServerURL\": \"https://plot.ly\", \"responsive\": true}\n",
       "                    ).then(function(){\n",
       "                            \n",
       "var gd = document.getElementById('63b5613c-2ced-4e41-a622-40cee3fd8df5');\n",
       "var x = new MutationObserver(function (mutations, observer) {{\n",
       "        var display = window.getComputedStyle(gd).display;\n",
       "        if (!display || display === 'none') {{\n",
       "            console.log([gd, 'removed!']);\n",
       "            Plotly.purge(gd);\n",
       "            observer.disconnect();\n",
       "        }}\n",
       "}});\n",
       "\n",
       "// Listen for the removal of the full notebook cells\n",
       "var notebookContainer = gd.closest('#notebook-container');\n",
       "if (notebookContainer) {{\n",
       "    x.observe(notebookContainer, {childList: true});\n",
       "}}\n",
       "\n",
       "// Listen for the clearing of the current output cell\n",
       "var outputEl = gd.closest('.output');\n",
       "if (outputEl) {{\n",
       "    x.observe(outputEl, {childList: true});\n",
       "}}\n",
       "\n",
       "                        })\n",
       "                };\n",
       "                });\n",
       "            </script>\n",
       "        </div>"
      ]
     },
     "metadata": {},
     "output_type": "display_data"
    }
   ],
   "source": [
    "m=df.groupby('license')['views'].count()\n",
    "m.iplot(kind='bar',color='pink',xTitle='Number of views ')"
   ]
  },
  {
   "cell_type": "markdown",
   "metadata": {},
   "source": [
    "# 7.Total views of data frame each year"
   ]
  },
  {
   "cell_type": "code",
   "execution_count": 53,
   "metadata": {},
   "outputs": [
    {
     "data": {
      "text/plain": [
       "364053"
      ]
     },
     "execution_count": 53,
     "metadata": {},
     "output_type": "execute_result"
    }
   ],
   "source": [
    "df[(df['last_updated']>='2018-01-01') & (df['last_updated']<='2018-12-31')]['views'].sum()"
   ]
  },
  {
   "cell_type": "code",
   "execution_count": 54,
   "metadata": {},
   "outputs": [
    {
     "data": {
      "text/plain": [
       "7612620"
      ]
     },
     "execution_count": 54,
     "metadata": {},
     "output_type": "execute_result"
    }
   ],
   "source": [
    "df[(df['last_updated']>='2017-01-01') & (df['last_updated']<='2017-12-31')]['views'].sum()"
   ]
  },
  {
   "cell_type": "code",
   "execution_count": 55,
   "metadata": {},
   "outputs": [
    {
     "data": {
      "text/plain": [
       "6622169"
      ]
     },
     "execution_count": 55,
     "metadata": {},
     "output_type": "execute_result"
    }
   ],
   "source": [
    "df[(df['last_updated']>='2016-01-01') & (df['last_updated']<='2016-12-31')]['views'].sum()"
   ]
  },
  {
   "cell_type": "code",
   "execution_count": 63,
   "metadata": {},
   "outputs": [
    {
     "data": {
      "text/html": [
       "<div>\n",
       "<style scoped>\n",
       "    .dataframe tbody tr th:only-of-type {\n",
       "        vertical-align: middle;\n",
       "    }\n",
       "\n",
       "    .dataframe tbody tr th {\n",
       "        vertical-align: top;\n",
       "    }\n",
       "\n",
       "    .dataframe thead th {\n",
       "        text-align: right;\n",
       "    }\n",
       "</style>\n",
       "<table border=\"1\" class=\"dataframe\">\n",
       "  <thead>\n",
       "    <tr style=\"text-align: right;\">\n",
       "      <th></th>\n",
       "      <th>views</th>\n",
       "    </tr>\n",
       "    <tr>\n",
       "      <th>years</th>\n",
       "      <th></th>\n",
       "    </tr>\n",
       "  </thead>\n",
       "  <tbody>\n",
       "    <tr>\n",
       "      <th>2018</th>\n",
       "      <td>364053</td>\n",
       "    </tr>\n",
       "    <tr>\n",
       "      <th>2017</th>\n",
       "      <td>7612620</td>\n",
       "    </tr>\n",
       "    <tr>\n",
       "      <th>2016</th>\n",
       "      <td>6622169</td>\n",
       "    </tr>\n",
       "  </tbody>\n",
       "</table>\n",
       "</div>"
      ],
      "text/plain": [
       "         views\n",
       "years         \n",
       "2018    364053\n",
       "2017   7612620\n",
       "2016   6622169"
      ]
     },
     "execution_count": 63,
     "metadata": {},
     "output_type": "execute_result"
    }
   ],
   "source": [
    "col=[[2018,364053],[2017,7612620],[2016,6622169]]\n",
    "k=pd.DataFrame(col,columns=['years','views'])\n",
    "k.set_index('years',inplace=True)\n",
    "k.head()\n"
   ]
  },
  {
   "cell_type": "code",
   "execution_count": 79,
   "metadata": {},
   "outputs": [
    {
     "data": {
      "application/vnd.plotly.v1+json": {
       "config": {
        "linkText": "Export to plot.ly",
        "plotlyServerURL": "https://plot.ly",
        "responsive": true,
        "showLink": true
       },
       "data": [
        {
         "marker": {
          "color": "rgba(128, 0, 128, 0.6)",
          "line": {
           "color": "rgba(128, 0, 128, 1.0)",
           "width": 1
          }
         },
         "name": "views",
         "orientation": "v",
         "text": "",
         "type": "bar",
         "uid": "ce9618f8-53af-4f07-be6a-b156403e951a",
         "x": [
          2018,
          2017,
          2016
         ],
         "y": [
          364053,
          7612620,
          6622169
         ]
        }
       ],
       "layout": {
        "legend": {
         "bgcolor": "#F5F6F9",
         "font": {
          "color": "#4D5663"
         }
        },
        "paper_bgcolor": "#F5F6F9",
        "plot_bgcolor": "#F5F6F9",
        "title": {
         "font": {
          "color": "#4D5663"
         }
        },
        "xaxis": {
         "gridcolor": "#E1E5ED",
         "showgrid": true,
         "tickfont": {
          "color": "#4D5663"
         },
         "title": {
          "font": {
           "color": "#4D5663"
          },
          "text": "Number of views"
         },
         "zerolinecolor": "#E1E5ED"
        },
        "yaxis": {
         "gridcolor": "#E1E5ED",
         "showgrid": true,
         "tickfont": {
          "color": "#4D5663"
         },
         "title": {
          "font": {
           "color": "#4D5663"
          },
          "text": ""
         },
         "zerolinecolor": "#E1E5ED"
        }
       }
      },
      "text/html": [
       "<div>\n",
       "        \n",
       "        \n",
       "            <div id=\"2efab8bb-4a80-47ee-a226-cdc01bf39e2a\" class=\"plotly-graph-div\" style=\"height:525px; width:100%;\"></div>\n",
       "            <script type=\"text/javascript\">\n",
       "                require([\"plotly\"], function(Plotly) {\n",
       "                    window.PLOTLYENV=window.PLOTLYENV || {};\n",
       "                    window.PLOTLYENV.BASE_URL='https://plot.ly';\n",
       "                    \n",
       "                if (document.getElementById(\"2efab8bb-4a80-47ee-a226-cdc01bf39e2a\")) {\n",
       "                    Plotly.newPlot(\n",
       "                        '2efab8bb-4a80-47ee-a226-cdc01bf39e2a',\n",
       "                        [{\"marker\": {\"color\": \"rgba(128, 0, 128, 0.6)\", \"line\": {\"color\": \"rgba(128, 0, 128, 1.0)\", \"width\": 1}}, \"name\": \"views\", \"orientation\": \"v\", \"text\": \"\", \"type\": \"bar\", \"uid\": \"f1b63950-7cda-49d6-9c1d-f18e6dbe82b9\", \"x\": [2018, 2017, 2016], \"y\": [364053, 7612620, 6622169]}],\n",
       "                        {\"legend\": {\"bgcolor\": \"#F5F6F9\", \"font\": {\"color\": \"#4D5663\"}}, \"paper_bgcolor\": \"#F5F6F9\", \"plot_bgcolor\": \"#F5F6F9\", \"title\": {\"font\": {\"color\": \"#4D5663\"}}, \"xaxis\": {\"gridcolor\": \"#E1E5ED\", \"showgrid\": true, \"tickfont\": {\"color\": \"#4D5663\"}, \"title\": {\"font\": {\"color\": \"#4D5663\"}, \"text\": \"Number of views\"}, \"zerolinecolor\": \"#E1E5ED\"}, \"yaxis\": {\"gridcolor\": \"#E1E5ED\", \"showgrid\": true, \"tickfont\": {\"color\": \"#4D5663\"}, \"title\": {\"font\": {\"color\": \"#4D5663\"}, \"text\": \"\"}, \"zerolinecolor\": \"#E1E5ED\"}},\n",
       "                        {\"showLink\": true, \"linkText\": \"Export to plot.ly\", \"plotlyServerURL\": \"https://plot.ly\", \"responsive\": true}\n",
       "                    ).then(function(){\n",
       "                            \n",
       "var gd = document.getElementById('2efab8bb-4a80-47ee-a226-cdc01bf39e2a');\n",
       "var x = new MutationObserver(function (mutations, observer) {{\n",
       "        var display = window.getComputedStyle(gd).display;\n",
       "        if (!display || display === 'none') {{\n",
       "            console.log([gd, 'removed!']);\n",
       "            Plotly.purge(gd);\n",
       "            observer.disconnect();\n",
       "        }}\n",
       "}});\n",
       "\n",
       "// Listen for the removal of the full notebook cells\n",
       "var notebookContainer = gd.closest('#notebook-container');\n",
       "if (notebookContainer) {{\n",
       "    x.observe(notebookContainer, {childList: true});\n",
       "}}\n",
       "\n",
       "// Listen for the clearing of the current output cell\n",
       "var outputEl = gd.closest('.output');\n",
       "if (outputEl) {{\n",
       "    x.observe(outputEl, {childList: true});\n",
       "}}\n",
       "\n",
       "                        })\n",
       "                };\n",
       "                });\n",
       "            </script>\n",
       "        </div>"
      ]
     },
     "metadata": {},
     "output_type": "display_data"
    }
   ],
   "source": [
    "k.iplot(kind='bar',color='purple',xTitle='Number of views')"
   ]
  },
  {
   "cell_type": "markdown",
   "metadata": {},
   "source": [
    "# 8.Total number of upvotes each year"
   ]
  },
  {
   "cell_type": "code",
   "execution_count": 73,
   "metadata": {},
   "outputs": [
    {
     "data": {
      "text/plain": [
       "1497"
      ]
     },
     "execution_count": 73,
     "metadata": {},
     "output_type": "execute_result"
    }
   ],
   "source": [
    "df[(df['last_updated']>='2018-01-01') & (df['last_updated']<='2018-12-31')]['upvotes'].sum()"
   ]
  },
  {
   "cell_type": "code",
   "execution_count": 74,
   "metadata": {},
   "outputs": [
    {
     "data": {
      "text/plain": [
       "26084"
      ]
     },
     "execution_count": 74,
     "metadata": {},
     "output_type": "execute_result"
    }
   ],
   "source": [
    "df[(df['last_updated']>='2017-01-01') & (df['last_updated']<='2017-12-31')]['upvotes'].sum()"
   ]
  },
  {
   "cell_type": "code",
   "execution_count": 77,
   "metadata": {},
   "outputs": [
    {
     "data": {
      "text/plain": [
       "16076"
      ]
     },
     "execution_count": 77,
     "metadata": {},
     "output_type": "execute_result"
    }
   ],
   "source": [
    "df[(df['last_updated']>='2016-01-01') & (df['last_updated']<='2016-12-31')]['upvotes'].sum()"
   ]
  },
  {
   "cell_type": "code",
   "execution_count": 80,
   "metadata": {},
   "outputs": [
    {
     "data": {
      "text/html": [
       "<div>\n",
       "<style scoped>\n",
       "    .dataframe tbody tr th:only-of-type {\n",
       "        vertical-align: middle;\n",
       "    }\n",
       "\n",
       "    .dataframe tbody tr th {\n",
       "        vertical-align: top;\n",
       "    }\n",
       "\n",
       "    .dataframe thead th {\n",
       "        text-align: right;\n",
       "    }\n",
       "</style>\n",
       "<table border=\"1\" class=\"dataframe\">\n",
       "  <thead>\n",
       "    <tr style=\"text-align: right;\">\n",
       "      <th></th>\n",
       "      <th>upvotes</th>\n",
       "    </tr>\n",
       "    <tr>\n",
       "      <th>years</th>\n",
       "      <th></th>\n",
       "    </tr>\n",
       "  </thead>\n",
       "  <tbody>\n",
       "    <tr>\n",
       "      <th>2018</th>\n",
       "      <td>1497</td>\n",
       "    </tr>\n",
       "    <tr>\n",
       "      <th>2017</th>\n",
       "      <td>26084</td>\n",
       "    </tr>\n",
       "    <tr>\n",
       "      <th>2016</th>\n",
       "      <td>16076</td>\n",
       "    </tr>\n",
       "  </tbody>\n",
       "</table>\n",
       "</div>"
      ],
      "text/plain": [
       "       upvotes\n",
       "years         \n",
       "2018      1497\n",
       "2017     26084\n",
       "2016     16076"
      ]
     },
     "execution_count": 80,
     "metadata": {},
     "output_type": "execute_result"
    }
   ],
   "source": [
    "col=[[2018,1497],[2017,26084],[2016,16076]]\n",
    "f=pd.DataFrame(col,columns=['years','upvotes'])\n",
    "f.set_index('years',inplace=True)\n",
    "f.head()\n"
   ]
  },
  {
   "cell_type": "code",
   "execution_count": 85,
   "metadata": {},
   "outputs": [
    {
     "data": {
      "application/vnd.plotly.v1+json": {
       "config": {
        "linkText": "Export to plot.ly",
        "plotlyServerURL": "https://plot.ly",
        "responsive": true,
        "showLink": true
       },
       "data": [
        {
         "marker": {
          "color": "rgba(165, 42, 42, 0.6)",
          "line": {
           "color": "rgba(165, 42, 42, 1.0)",
           "width": 1
          }
         },
         "name": "upvotes",
         "orientation": "v",
         "text": "",
         "type": "bar",
         "uid": "3679c397-497b-4f0b-acb7-dce8d431f588",
         "x": [
          2018,
          2017,
          2016
         ],
         "y": [
          1497,
          26084,
          16076
         ]
        }
       ],
       "layout": {
        "legend": {
         "bgcolor": "#F5F6F9",
         "font": {
          "color": "#4D5663"
         }
        },
        "paper_bgcolor": "#F5F6F9",
        "plot_bgcolor": "#F5F6F9",
        "title": {
         "font": {
          "color": "#4D5663"
         }
        },
        "xaxis": {
         "gridcolor": "#E1E5ED",
         "showgrid": true,
         "tickfont": {
          "color": "#4D5663"
         },
         "title": {
          "font": {
           "color": "#4D5663"
          },
          "text": ""
         },
         "zerolinecolor": "#E1E5ED"
        },
        "yaxis": {
         "gridcolor": "#E1E5ED",
         "showgrid": true,
         "tickfont": {
          "color": "#4D5663"
         },
         "title": {
          "font": {
           "color": "#4D5663"
          },
          "text": ""
         },
         "zerolinecolor": "#E1E5ED"
        }
       }
      },
      "text/html": [
       "<div>\n",
       "        \n",
       "        \n",
       "            <div id=\"c0f27632-9b57-4932-abb4-70263932469d\" class=\"plotly-graph-div\" style=\"height:525px; width:100%;\"></div>\n",
       "            <script type=\"text/javascript\">\n",
       "                require([\"plotly\"], function(Plotly) {\n",
       "                    window.PLOTLYENV=window.PLOTLYENV || {};\n",
       "                    window.PLOTLYENV.BASE_URL='https://plot.ly';\n",
       "                    \n",
       "                if (document.getElementById(\"c0f27632-9b57-4932-abb4-70263932469d\")) {\n",
       "                    Plotly.newPlot(\n",
       "                        'c0f27632-9b57-4932-abb4-70263932469d',\n",
       "                        [{\"marker\": {\"color\": \"rgba(165, 42, 42, 0.6)\", \"line\": {\"color\": \"rgba(165, 42, 42, 1.0)\", \"width\": 1}}, \"name\": \"upvotes\", \"orientation\": \"v\", \"text\": \"\", \"type\": \"bar\", \"uid\": \"ab8f3905-3a50-4520-858e-c123407decca\", \"x\": [2018, 2017, 2016], \"y\": [1497, 26084, 16076]}],\n",
       "                        {\"legend\": {\"bgcolor\": \"#F5F6F9\", \"font\": {\"color\": \"#4D5663\"}}, \"paper_bgcolor\": \"#F5F6F9\", \"plot_bgcolor\": \"#F5F6F9\", \"title\": {\"font\": {\"color\": \"#4D5663\"}}, \"xaxis\": {\"gridcolor\": \"#E1E5ED\", \"showgrid\": true, \"tickfont\": {\"color\": \"#4D5663\"}, \"title\": {\"font\": {\"color\": \"#4D5663\"}, \"text\": \"\"}, \"zerolinecolor\": \"#E1E5ED\"}, \"yaxis\": {\"gridcolor\": \"#E1E5ED\", \"showgrid\": true, \"tickfont\": {\"color\": \"#4D5663\"}, \"title\": {\"font\": {\"color\": \"#4D5663\"}, \"text\": \"\"}, \"zerolinecolor\": \"#E1E5ED\"}},\n",
       "                        {\"showLink\": true, \"linkText\": \"Export to plot.ly\", \"plotlyServerURL\": \"https://plot.ly\", \"responsive\": true}\n",
       "                    ).then(function(){\n",
       "                            \n",
       "var gd = document.getElementById('c0f27632-9b57-4932-abb4-70263932469d');\n",
       "var x = new MutationObserver(function (mutations, observer) {{\n",
       "        var display = window.getComputedStyle(gd).display;\n",
       "        if (!display || display === 'none') {{\n",
       "            console.log([gd, 'removed!']);\n",
       "            Plotly.purge(gd);\n",
       "            observer.disconnect();\n",
       "        }}\n",
       "}});\n",
       "\n",
       "// Listen for the removal of the full notebook cells\n",
       "var notebookContainer = gd.closest('#notebook-container');\n",
       "if (notebookContainer) {{\n",
       "    x.observe(notebookContainer, {childList: true});\n",
       "}}\n",
       "\n",
       "// Listen for the clearing of the current output cell\n",
       "var outputEl = gd.closest('.output');\n",
       "if (outputEl) {{\n",
       "    x.observe(outputEl, {childList: true});\n",
       "}}\n",
       "\n",
       "                        })\n",
       "                };\n",
       "                });\n",
       "            </script>\n",
       "        </div>"
      ]
     },
     "metadata": {},
     "output_type": "display_data"
    }
   ],
   "source": [
    "f.iplot(kind='bar',color='brown')"
   ]
  },
  {
   "cell_type": "markdown",
   "metadata": {},
   "source": [
    "# 9.Total number of downloads per year  "
   ]
  },
  {
   "cell_type": "code",
   "execution_count": 86,
   "metadata": {},
   "outputs": [
    {
     "data": {
      "text/plain": [
       "38423"
      ]
     },
     "execution_count": 86,
     "metadata": {},
     "output_type": "execute_result"
    }
   ],
   "source": [
    "df[(df['last_updated']>='2018-01-01') & (df['last_updated']<='2018-12-31')]['downloads'].sum()"
   ]
  },
  {
   "cell_type": "code",
   "execution_count": 89,
   "metadata": {},
   "outputs": [
    {
     "data": {
      "text/plain": [
       "930977"
      ]
     },
     "execution_count": 89,
     "metadata": {},
     "output_type": "execute_result"
    }
   ],
   "source": [
    "df[(df['last_updated']>='2017-01-01') & (df['last_updated']<='2017-12-31')]['downloads'].sum()"
   ]
  },
  {
   "cell_type": "code",
   "execution_count": 90,
   "metadata": {},
   "outputs": [
    {
     "data": {
      "text/plain": [
       "833803"
      ]
     },
     "execution_count": 90,
     "metadata": {},
     "output_type": "execute_result"
    }
   ],
   "source": [
    "df[(df['last_updated']>='2016-01-01') & (df['last_updated']<='2016-12-31')]['downloads'].sum()"
   ]
  },
  {
   "cell_type": "code",
   "execution_count": 91,
   "metadata": {},
   "outputs": [
    {
     "data": {
      "text/html": [
       "<div>\n",
       "<style scoped>\n",
       "    .dataframe tbody tr th:only-of-type {\n",
       "        vertical-align: middle;\n",
       "    }\n",
       "\n",
       "    .dataframe tbody tr th {\n",
       "        vertical-align: top;\n",
       "    }\n",
       "\n",
       "    .dataframe thead th {\n",
       "        text-align: right;\n",
       "    }\n",
       "</style>\n",
       "<table border=\"1\" class=\"dataframe\">\n",
       "  <thead>\n",
       "    <tr style=\"text-align: right;\">\n",
       "      <th></th>\n",
       "      <th>downloads</th>\n",
       "    </tr>\n",
       "    <tr>\n",
       "      <th>years</th>\n",
       "      <th></th>\n",
       "    </tr>\n",
       "  </thead>\n",
       "  <tbody>\n",
       "    <tr>\n",
       "      <th>2018</th>\n",
       "      <td>38423</td>\n",
       "    </tr>\n",
       "    <tr>\n",
       "      <th>2017</th>\n",
       "      <td>930977</td>\n",
       "    </tr>\n",
       "    <tr>\n",
       "      <th>2016</th>\n",
       "      <td>833803</td>\n",
       "    </tr>\n",
       "  </tbody>\n",
       "</table>\n",
       "</div>"
      ],
      "text/plain": [
       "       downloads\n",
       "years           \n",
       "2018       38423\n",
       "2017      930977\n",
       "2016      833803"
      ]
     },
     "execution_count": 91,
     "metadata": {},
     "output_type": "execute_result"
    }
   ],
   "source": [
    "col=[[2018,38423],[2017,930977],[2016,833803]]\n",
    "l=pd.DataFrame(col,columns=['years','downloads'])\n",
    "l.set_index('years',inplace=True)\n",
    "l.head()"
   ]
  },
  {
   "cell_type": "code",
   "execution_count": 93,
   "metadata": {},
   "outputs": [
    {
     "data": {
      "application/vnd.plotly.v1+json": {
       "config": {
        "linkText": "Export to plot.ly",
        "plotlyServerURL": "https://plot.ly",
        "responsive": true,
        "showLink": true
       },
       "data": [
        {
         "marker": {
          "color": "rgba(255, 153, 51, 0.6)",
          "line": {
           "color": "rgba(255, 153, 51, 1.0)",
           "width": 1
          }
         },
         "name": "downloads",
         "orientation": "v",
         "text": "",
         "type": "bar",
         "uid": "bd760b90-8cfb-421b-94b5-10d1f6476bf8",
         "x": [
          2018,
          2017,
          2016
         ],
         "y": [
          38423,
          930977,
          833803
         ]
        }
       ],
       "layout": {
        "legend": {
         "bgcolor": "#F5F6F9",
         "font": {
          "color": "#4D5663"
         }
        },
        "paper_bgcolor": "#F5F6F9",
        "plot_bgcolor": "#F5F6F9",
        "title": {
         "font": {
          "color": "#4D5663"
         }
        },
        "xaxis": {
         "gridcolor": "#E1E5ED",
         "showgrid": true,
         "tickfont": {
          "color": "#4D5663"
         },
         "title": {
          "font": {
           "color": "#4D5663"
          },
          "text": ""
         },
         "zerolinecolor": "#E1E5ED"
        },
        "yaxis": {
         "gridcolor": "#E1E5ED",
         "showgrid": true,
         "tickfont": {
          "color": "#4D5663"
         },
         "title": {
          "font": {
           "color": "#4D5663"
          },
          "text": ""
         },
         "zerolinecolor": "#E1E5ED"
        }
       }
      },
      "text/html": [
       "<div>\n",
       "        \n",
       "        \n",
       "            <div id=\"3a2ad575-8b7c-4ed8-8c32-dcf8a376dba8\" class=\"plotly-graph-div\" style=\"height:525px; width:100%;\"></div>\n",
       "            <script type=\"text/javascript\">\n",
       "                require([\"plotly\"], function(Plotly) {\n",
       "                    window.PLOTLYENV=window.PLOTLYENV || {};\n",
       "                    window.PLOTLYENV.BASE_URL='https://plot.ly';\n",
       "                    \n",
       "                if (document.getElementById(\"3a2ad575-8b7c-4ed8-8c32-dcf8a376dba8\")) {\n",
       "                    Plotly.newPlot(\n",
       "                        '3a2ad575-8b7c-4ed8-8c32-dcf8a376dba8',\n",
       "                        [{\"marker\": {\"color\": \"rgba(255, 153, 51, 0.6)\", \"line\": {\"color\": \"rgba(255, 153, 51, 1.0)\", \"width\": 1}}, \"name\": \"downloads\", \"orientation\": \"v\", \"text\": \"\", \"type\": \"bar\", \"uid\": \"556e21ae-21ec-44bd-9310-52ced2c414f7\", \"x\": [2018, 2017, 2016], \"y\": [38423, 930977, 833803]}],\n",
       "                        {\"legend\": {\"bgcolor\": \"#F5F6F9\", \"font\": {\"color\": \"#4D5663\"}}, \"paper_bgcolor\": \"#F5F6F9\", \"plot_bgcolor\": \"#F5F6F9\", \"title\": {\"font\": {\"color\": \"#4D5663\"}}, \"xaxis\": {\"gridcolor\": \"#E1E5ED\", \"showgrid\": true, \"tickfont\": {\"color\": \"#4D5663\"}, \"title\": {\"font\": {\"color\": \"#4D5663\"}, \"text\": \"\"}, \"zerolinecolor\": \"#E1E5ED\"}, \"yaxis\": {\"gridcolor\": \"#E1E5ED\", \"showgrid\": true, \"tickfont\": {\"color\": \"#4D5663\"}, \"title\": {\"font\": {\"color\": \"#4D5663\"}, \"text\": \"\"}, \"zerolinecolor\": \"#E1E5ED\"}},\n",
       "                        {\"showLink\": true, \"linkText\": \"Export to plot.ly\", \"plotlyServerURL\": \"https://plot.ly\", \"responsive\": true}\n",
       "                    ).then(function(){\n",
       "                            \n",
       "var gd = document.getElementById('3a2ad575-8b7c-4ed8-8c32-dcf8a376dba8');\n",
       "var x = new MutationObserver(function (mutations, observer) {{\n",
       "        var display = window.getComputedStyle(gd).display;\n",
       "        if (!display || display === 'none') {{\n",
       "            console.log([gd, 'removed!']);\n",
       "            Plotly.purge(gd);\n",
       "            observer.disconnect();\n",
       "        }}\n",
       "}});\n",
       "\n",
       "// Listen for the removal of the full notebook cells\n",
       "var notebookContainer = gd.closest('#notebook-container');\n",
       "if (notebookContainer) {{\n",
       "    x.observe(notebookContainer, {childList: true});\n",
       "}}\n",
       "\n",
       "// Listen for the clearing of the current output cell\n",
       "var outputEl = gd.closest('.output');\n",
       "if (outputEl) {{\n",
       "    x.observe(outputEl, {childList: true});\n",
       "}}\n",
       "\n",
       "                        })\n",
       "                };\n",
       "                });\n",
       "            </script>\n",
       "        </div>"
      ]
     },
     "metadata": {},
     "output_type": "display_data"
    }
   ],
   "source": [
    "l.iplot(kind='bar')"
   ]
  },
  {
   "cell_type": "markdown",
   "metadata": {},
   "source": [
    "#  10.Link between downloads and upvotes"
   ]
  },
  {
   "cell_type": "code",
   "execution_count": 94,
   "metadata": {},
   "outputs": [
    {
     "data": {
      "text/html": [
       "<div>\n",
       "<style scoped>\n",
       "    .dataframe tbody tr th:only-of-type {\n",
       "        vertical-align: middle;\n",
       "    }\n",
       "\n",
       "    .dataframe tbody tr th {\n",
       "        vertical-align: top;\n",
       "    }\n",
       "\n",
       "    .dataframe thead th {\n",
       "        text-align: right;\n",
       "    }\n",
       "</style>\n",
       "<table border=\"1\" class=\"dataframe\">\n",
       "  <thead>\n",
       "    <tr style=\"text-align: right;\">\n",
       "      <th></th>\n",
       "      <th>downloads</th>\n",
       "      <th>views</th>\n",
       "      <th>upvotes</th>\n",
       "    </tr>\n",
       "    <tr>\n",
       "      <th>years</th>\n",
       "      <th></th>\n",
       "      <th></th>\n",
       "      <th></th>\n",
       "    </tr>\n",
       "  </thead>\n",
       "  <tbody>\n",
       "    <tr>\n",
       "      <th>2018</th>\n",
       "      <td>38423</td>\n",
       "      <td>364053</td>\n",
       "      <td>1497</td>\n",
       "    </tr>\n",
       "    <tr>\n",
       "      <th>2017</th>\n",
       "      <td>930977</td>\n",
       "      <td>7612620</td>\n",
       "      <td>26084</td>\n",
       "    </tr>\n",
       "    <tr>\n",
       "      <th>2016</th>\n",
       "      <td>833803</td>\n",
       "      <td>6622169</td>\n",
       "      <td>16076</td>\n",
       "    </tr>\n",
       "  </tbody>\n",
       "</table>\n",
       "</div>"
      ],
      "text/plain": [
       "       downloads    views  upvotes\n",
       "years                             \n",
       "2018       38423   364053     1497\n",
       "2017      930977  7612620    26084\n",
       "2016      833803  6622169    16076"
      ]
     },
     "execution_count": 94,
     "metadata": {},
     "output_type": "execute_result"
    }
   ],
   "source": [
    "col=[[2018,38423,364053,1497],[2017,930977,7612620,26084],[2016,833803,6622169,16076]]\n",
    "p=pd.DataFrame(col,columns=['years','downloads','views','upvotes'])\n",
    "p.set_index('years',inplace=True)\n",
    "p.head()"
   ]
  },
  {
   "cell_type": "code",
   "execution_count": 103,
   "metadata": {},
   "outputs": [
    {
     "data": {
      "application/vnd.plotly.v1+json": {
       "config": {
        "linkText": "Export to plot.ly",
        "plotlyServerURL": "https://plot.ly",
        "responsive": true,
        "showLink": true
       },
       "data": [
        {
         "colorscale": [
          [
           0,
           "rgb(255, 153, 51)"
          ],
          [
           0.1111111111111111,
           "rgb(55, 128, 191)"
          ],
          [
           0.2222222222222222,
           "rgb(50, 171, 96)"
          ],
          [
           0.3333333333333333,
           "rgb(128, 0, 128)"
          ],
          [
           0.4444444444444444,
           "rgb(219, 64, 82)"
          ],
          [
           0.5555555555555556,
           "rgb(0, 128, 128)"
          ],
          [
           0.6666666666666666,
           "rgb(255, 255, 51)"
          ],
          [
           0.7777777777777778,
           "rgb(128, 128, 0)"
          ],
          [
           0.8888888888888888,
           "rgb(251, 128, 114)"
          ],
          [
           1,
           "rgb(128, 177, 211)"
          ]
         ],
         "type": "heatmap",
         "uid": "0f0fd72d-c2a2-4d37-8475-d29e6b59f83c",
         "x": [
          2018,
          2017,
          2016
         ],
         "y": [
          "downloads",
          "views",
          "upvotes"
         ],
         "z": [
          [
           38423,
           930977,
           833803
          ],
          [
           364053,
           7612620,
           6622169
          ],
          [
           1497,
           26084,
           16076
          ]
         ],
         "zmax": 7612620,
         "zmin": 1497
        }
       ],
       "layout": {
        "legend": {
         "bgcolor": "#F5F6F9",
         "font": {
          "color": "#4D5663"
         }
        },
        "paper_bgcolor": "#F5F6F9",
        "plot_bgcolor": "#F5F6F9",
        "title": {
         "font": {
          "color": "#4D5663"
         }
        },
        "xaxis": {
         "gridcolor": "#E1E5ED",
         "showgrid": true,
         "tickfont": {
          "color": "#4D5663"
         },
         "title": {
          "font": {
           "color": "#4D5663"
          },
          "text": ""
         },
         "zerolinecolor": "#E1E5ED"
        },
        "yaxis": {
         "gridcolor": "#E1E5ED",
         "showgrid": true,
         "tickfont": {
          "color": "#4D5663"
         },
         "title": {
          "font": {
           "color": "#4D5663"
          },
          "text": ""
         },
         "zerolinecolor": "#E1E5ED"
        }
       }
      },
      "text/html": [
       "<div>\n",
       "        \n",
       "        \n",
       "            <div id=\"f48268ea-404b-4847-93d0-233b73d99294\" class=\"plotly-graph-div\" style=\"height:525px; width:100%;\"></div>\n",
       "            <script type=\"text/javascript\">\n",
       "                require([\"plotly\"], function(Plotly) {\n",
       "                    window.PLOTLYENV=window.PLOTLYENV || {};\n",
       "                    window.PLOTLYENV.BASE_URL='https://plot.ly';\n",
       "                    \n",
       "                if (document.getElementById(\"f48268ea-404b-4847-93d0-233b73d99294\")) {\n",
       "                    Plotly.newPlot(\n",
       "                        'f48268ea-404b-4847-93d0-233b73d99294',\n",
       "                        [{\"colorscale\": [[0.0, \"rgb(255, 153, 51)\"], [0.1111111111111111, \"rgb(55, 128, 191)\"], [0.2222222222222222, \"rgb(50, 171, 96)\"], [0.3333333333333333, \"rgb(128, 0, 128)\"], [0.4444444444444444, \"rgb(219, 64, 82)\"], [0.5555555555555556, \"rgb(0, 128, 128)\"], [0.6666666666666666, \"rgb(255, 255, 51)\"], [0.7777777777777778, \"rgb(128, 128, 0)\"], [0.8888888888888888, \"rgb(251, 128, 114)\"], [1.0, \"rgb(128, 177, 211)\"]], \"type\": \"heatmap\", \"uid\": \"ab2ecf1a-f375-47c6-a6dc-926abd947f1f\", \"x\": [2018, 2017, 2016], \"y\": [\"downloads\", \"views\", \"upvotes\"], \"z\": [[38423, 930977, 833803], [364053, 7612620, 6622169], [1497, 26084, 16076]], \"zmax\": 7612620, \"zmin\": 1497}],\n",
       "                        {\"legend\": {\"bgcolor\": \"#F5F6F9\", \"font\": {\"color\": \"#4D5663\"}}, \"paper_bgcolor\": \"#F5F6F9\", \"plot_bgcolor\": \"#F5F6F9\", \"title\": {\"font\": {\"color\": \"#4D5663\"}}, \"xaxis\": {\"gridcolor\": \"#E1E5ED\", \"showgrid\": true, \"tickfont\": {\"color\": \"#4D5663\"}, \"title\": {\"font\": {\"color\": \"#4D5663\"}, \"text\": \"\"}, \"zerolinecolor\": \"#E1E5ED\"}, \"yaxis\": {\"gridcolor\": \"#E1E5ED\", \"showgrid\": true, \"tickfont\": {\"color\": \"#4D5663\"}, \"title\": {\"font\": {\"color\": \"#4D5663\"}, \"text\": \"\"}, \"zerolinecolor\": \"#E1E5ED\"}},\n",
       "                        {\"showLink\": true, \"linkText\": \"Export to plot.ly\", \"plotlyServerURL\": \"https://plot.ly\", \"responsive\": true}\n",
       "                    ).then(function(){\n",
       "                            \n",
       "var gd = document.getElementById('f48268ea-404b-4847-93d0-233b73d99294');\n",
       "var x = new MutationObserver(function (mutations, observer) {{\n",
       "        var display = window.getComputedStyle(gd).display;\n",
       "        if (!display || display === 'none') {{\n",
       "            console.log([gd, 'removed!']);\n",
       "            Plotly.purge(gd);\n",
       "            observer.disconnect();\n",
       "        }}\n",
       "}});\n",
       "\n",
       "// Listen for the removal of the full notebook cells\n",
       "var notebookContainer = gd.closest('#notebook-container');\n",
       "if (notebookContainer) {{\n",
       "    x.observe(notebookContainer, {childList: true});\n",
       "}}\n",
       "\n",
       "// Listen for the clearing of the current output cell\n",
       "var outputEl = gd.closest('.output');\n",
       "if (outputEl) {{\n",
       "    x.observe(outputEl, {childList: true});\n",
       "}}\n",
       "\n",
       "                        })\n",
       "                };\n",
       "                });\n",
       "            </script>\n",
       "        </div>"
      ]
     },
     "metadata": {},
     "output_type": "display_data"
    }
   ],
   "source": [
    "p.iplot(kind='heatmap')"
   ]
  }
 ],
 "metadata": {
  "kernelspec": {
   "display_name": "Python 3",
   "language": "python",
   "name": "python3"
  },
  "language_info": {
   "codemirror_mode": {
    "name": "ipython",
    "version": 3
   },
   "file_extension": ".py",
   "mimetype": "text/x-python",
   "name": "python",
   "nbconvert_exporter": "python",
   "pygments_lexer": "ipython3",
   "version": "3.7.3"
  }
 },
 "nbformat": 4,
 "nbformat_minor": 2
}
